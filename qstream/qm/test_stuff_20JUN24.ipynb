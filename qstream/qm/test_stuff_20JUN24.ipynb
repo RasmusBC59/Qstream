{
 "cells": [
  {
   "cell_type": "markdown",
   "metadata": {},
   "source": [
    "# test on TL device"
   ]
  },
  {
   "cell_type": "markdown",
   "metadata": {},
   "source": [
    "# test with live_plotting"
   ]
  },
  {
   "cell_type": "code",
   "execution_count": 1,
   "metadata": {},
   "outputs": [],
   "source": [
    "%load_ext autoreload\n",
    "%autoreload 2"
   ]
  },
  {
   "cell_type": "code",
   "execution_count": 1,
   "metadata": {},
   "outputs": [
    {
     "data": {
      "application/javascript": "(function(root) {\n  function now() {\n    return new Date();\n  }\n\n  var force = true;\n  var py_version = '3.4.1'.replace('rc', '-rc.').replace('.dev', '-dev.');\n  var reloading = false;\n  var Bokeh = root.Bokeh;\n\n  if (typeof (root._bokeh_timeout) === \"undefined\" || force) {\n    root._bokeh_timeout = Date.now() + 5000;\n    root._bokeh_failed_load = false;\n  }\n\n  function run_callbacks() {\n    try {\n      root._bokeh_onload_callbacks.forEach(function(callback) {\n        if (callback != null)\n          callback();\n      });\n    } finally {\n      delete root._bokeh_onload_callbacks;\n    }\n    console.debug(\"Bokeh: all callbacks have finished\");\n  }\n\n  function load_libs(css_urls, js_urls, js_modules, js_exports, callback) {\n    if (css_urls == null) css_urls = [];\n    if (js_urls == null) js_urls = [];\n    if (js_modules == null) js_modules = [];\n    if (js_exports == null) js_exports = {};\n\n    root._bokeh_onload_callbacks.push(callback);\n\n    if (root._bokeh_is_loading > 0) {\n      console.debug(\"Bokeh: BokehJS is being loaded, scheduling callback at\", now());\n      return null;\n    }\n    if (js_urls.length === 0 && js_modules.length === 0 && Object.keys(js_exports).length === 0) {\n      run_callbacks();\n      return null;\n    }\n    if (!reloading) {\n      console.debug(\"Bokeh: BokehJS not loaded, scheduling load and callback at\", now());\n    }\n\n    function on_load() {\n      root._bokeh_is_loading--;\n      if (root._bokeh_is_loading === 0) {\n        console.debug(\"Bokeh: all BokehJS libraries/stylesheets loaded\");\n        run_callbacks()\n      }\n    }\n    window._bokeh_on_load = on_load\n\n    function on_error() {\n      console.error(\"failed to load \" + url);\n    }\n\n    var skip = [];\n    if (window.requirejs) {\n      window.requirejs.config({'packages': {}, 'paths': {}, 'shim': {}});\n      root._bokeh_is_loading = css_urls.length + 0;\n    } else {\n      root._bokeh_is_loading = css_urls.length + js_urls.length + js_modules.length + Object.keys(js_exports).length;\n    }\n\n    var existing_stylesheets = []\n    var links = document.getElementsByTagName('link')\n    for (var i = 0; i < links.length; i++) {\n      var link = links[i]\n      if (link.href != null) {\n\texisting_stylesheets.push(link.href)\n      }\n    }\n    for (var i = 0; i < css_urls.length; i++) {\n      var url = css_urls[i];\n      if (existing_stylesheets.indexOf(url) !== -1) {\n\ton_load()\n\tcontinue;\n      }\n      const element = document.createElement(\"link\");\n      element.onload = on_load;\n      element.onerror = on_error;\n      element.rel = \"stylesheet\";\n      element.type = \"text/css\";\n      element.href = url;\n      console.debug(\"Bokeh: injecting link tag for BokehJS stylesheet: \", url);\n      document.body.appendChild(element);\n    }    var existing_scripts = []\n    var scripts = document.getElementsByTagName('script')\n    for (var i = 0; i < scripts.length; i++) {\n      var script = scripts[i]\n      if (script.src != null) {\n\texisting_scripts.push(script.src)\n      }\n    }\n    for (var i = 0; i < js_urls.length; i++) {\n      var url = js_urls[i];\n      if (skip.indexOf(url) !== -1 || existing_scripts.indexOf(url) !== -1) {\n\tif (!window.requirejs) {\n\t  on_load();\n\t}\n\tcontinue;\n      }\n      var element = document.createElement('script');\n      element.onload = on_load;\n      element.onerror = on_error;\n      element.async = false;\n      element.src = url;\n      console.debug(\"Bokeh: injecting script tag for BokehJS library: \", url);\n      document.head.appendChild(element);\n    }\n    for (var i = 0; i < js_modules.length; i++) {\n      var url = js_modules[i];\n      if (skip.indexOf(url) !== -1 || existing_scripts.indexOf(url) !== -1) {\n\tif (!window.requirejs) {\n\t  on_load();\n\t}\n\tcontinue;\n      }\n      var element = document.createElement('script');\n      element.onload = on_load;\n      element.onerror = on_error;\n      element.async = false;\n      element.src = url;\n      element.type = \"module\";\n      console.debug(\"Bokeh: injecting script tag for BokehJS library: \", url);\n      document.head.appendChild(element);\n    }\n    for (const name in js_exports) {\n      var url = js_exports[name];\n      if (skip.indexOf(url) >= 0 || root[name] != null) {\n\tif (!window.requirejs) {\n\t  on_load();\n\t}\n\tcontinue;\n      }\n      var element = document.createElement('script');\n      element.onerror = on_error;\n      element.async = false;\n      element.type = \"module\";\n      console.debug(\"Bokeh: injecting script tag for BokehJS library: \", url);\n      element.textContent = `\n      import ${name} from \"${url}\"\n      window.${name} = ${name}\n      window._bokeh_on_load()\n      `\n      document.head.appendChild(element);\n    }\n    if (!js_urls.length && !js_modules.length) {\n      on_load()\n    }\n  };\n\n  function inject_raw_css(css) {\n    const element = document.createElement(\"style\");\n    element.appendChild(document.createTextNode(css));\n    document.body.appendChild(element);\n  }\n\n  var js_urls = [\"https://cdn.bokeh.org/bokeh/release/bokeh-3.4.1.min.js\", \"https://cdn.bokeh.org/bokeh/release/bokeh-gl-3.4.1.min.js\", \"https://cdn.bokeh.org/bokeh/release/bokeh-widgets-3.4.1.min.js\", \"https://cdn.bokeh.org/bokeh/release/bokeh-tables-3.4.1.min.js\", \"https://cdn.holoviz.org/panel/1.4.4/dist/panel.min.js\"];\n  var js_modules = [];\n  var js_exports = {};\n  var css_urls = [];\n  var inline_js = [    function(Bokeh) {\n      Bokeh.set_log_level(\"info\");\n    },\nfunction(Bokeh) {} // ensure no trailing comma for IE\n  ];\n\n  function run_inline_js() {\n    if ((root.Bokeh !== undefined) || (force === true)) {\n      for (var i = 0; i < inline_js.length; i++) {\n\ttry {\n          inline_js[i].call(root, root.Bokeh);\n\t} catch(e) {\n\t  if (!reloading) {\n\t    throw e;\n\t  }\n\t}\n      }\n      // Cache old bokeh versions\n      if (Bokeh != undefined && !reloading) {\n\tvar NewBokeh = root.Bokeh;\n\tif (Bokeh.versions === undefined) {\n\t  Bokeh.versions = new Map();\n\t}\n\tif (NewBokeh.version !== Bokeh.version) {\n\t  Bokeh.versions.set(NewBokeh.version, NewBokeh)\n\t}\n\troot.Bokeh = Bokeh;\n      }} else if (Date.now() < root._bokeh_timeout) {\n      setTimeout(run_inline_js, 100);\n    } else if (!root._bokeh_failed_load) {\n      console.log(\"Bokeh: BokehJS failed to load within specified timeout.\");\n      root._bokeh_failed_load = true;\n    }\n    root._bokeh_is_initializing = false\n  }\n\n  function load_or_wait() {\n    // Implement a backoff loop that tries to ensure we do not load multiple\n    // versions of Bokeh and its dependencies at the same time.\n    // In recent versions we use the root._bokeh_is_initializing flag\n    // to determine whether there is an ongoing attempt to initialize\n    // bokeh, however for backward compatibility we also try to ensure\n    // that we do not start loading a newer (Panel>=1.0 and Bokeh>3) version\n    // before older versions are fully initialized.\n    if (root._bokeh_is_initializing && Date.now() > root._bokeh_timeout) {\n      root._bokeh_is_initializing = false;\n      root._bokeh_onload_callbacks = undefined;\n      console.log(\"Bokeh: BokehJS was loaded multiple times but one version failed to initialize.\");\n      load_or_wait();\n    } else if (root._bokeh_is_initializing || (typeof root._bokeh_is_initializing === \"undefined\" && root._bokeh_onload_callbacks !== undefined)) {\n      setTimeout(load_or_wait, 100);\n    } else {\n      root._bokeh_is_initializing = true\n      root._bokeh_onload_callbacks = []\n      var bokeh_loaded = Bokeh != null && (Bokeh.version === py_version || (Bokeh.versions !== undefined && Bokeh.versions.has(py_version)));\n      if (!reloading && !bokeh_loaded) {\n\troot.Bokeh = undefined;\n      }\n      load_libs(css_urls, js_urls, js_modules, js_exports, function() {\n\tconsole.debug(\"Bokeh: BokehJS plotting callback run at\", now());\n\trun_inline_js();\n      });\n    }\n  }\n  // Give older versions of the autoload script a head-start to ensure\n  // they initialize before we start loading newer version.\n  setTimeout(load_or_wait, 100)\n}(window));",
      "application/vnd.holoviews_load.v0+json": ""
     },
     "metadata": {},
     "output_type": "display_data"
    },
    {
     "data": {
      "application/javascript": "\nif ((window.PyViz === undefined) || (window.PyViz instanceof HTMLElement)) {\n  window.PyViz = {comms: {}, comm_status:{}, kernels:{}, receivers: {}, plot_index: []}\n}\n\n\n    function JupyterCommManager() {\n    }\n\n    JupyterCommManager.prototype.register_target = function(plot_id, comm_id, msg_handler) {\n      if (window.comm_manager || ((window.Jupyter !== undefined) && (Jupyter.notebook.kernel != null))) {\n        var comm_manager = window.comm_manager || Jupyter.notebook.kernel.comm_manager;\n        comm_manager.register_target(comm_id, function(comm) {\n          comm.on_msg(msg_handler);\n        });\n      } else if ((plot_id in window.PyViz.kernels) && (window.PyViz.kernels[plot_id])) {\n        window.PyViz.kernels[plot_id].registerCommTarget(comm_id, function(comm) {\n          comm.onMsg = msg_handler;\n        });\n      } else if (typeof google != 'undefined' && google.colab.kernel != null) {\n        google.colab.kernel.comms.registerTarget(comm_id, (comm) => {\n          var messages = comm.messages[Symbol.asyncIterator]();\n          function processIteratorResult(result) {\n            var message = result.value;\n            console.log(message)\n            var content = {data: message.data, comm_id};\n            var buffers = []\n            for (var buffer of message.buffers || []) {\n              buffers.push(new DataView(buffer))\n            }\n            var metadata = message.metadata || {};\n            var msg = {content, buffers, metadata}\n            msg_handler(msg);\n            return messages.next().then(processIteratorResult);\n          }\n          return messages.next().then(processIteratorResult);\n        })\n      }\n    }\n\n    JupyterCommManager.prototype.get_client_comm = function(plot_id, comm_id, msg_handler) {\n      if (comm_id in window.PyViz.comms) {\n        return window.PyViz.comms[comm_id];\n      } else if (window.comm_manager || ((window.Jupyter !== undefined) && (Jupyter.notebook.kernel != null))) {\n        var comm_manager = window.comm_manager || Jupyter.notebook.kernel.comm_manager;\n        var comm = comm_manager.new_comm(comm_id, {}, {}, {}, comm_id);\n        if (msg_handler) {\n          comm.on_msg(msg_handler);\n        }\n      } else if ((plot_id in window.PyViz.kernels) && (window.PyViz.kernels[plot_id])) {\n        var comm = window.PyViz.kernels[plot_id].connectToComm(comm_id);\n        comm.open();\n        if (msg_handler) {\n          comm.onMsg = msg_handler;\n        }\n      } else if (typeof google != 'undefined' && google.colab.kernel != null) {\n        var comm_promise = google.colab.kernel.comms.open(comm_id)\n        comm_promise.then((comm) => {\n          window.PyViz.comms[comm_id] = comm;\n          if (msg_handler) {\n            var messages = comm.messages[Symbol.asyncIterator]();\n            function processIteratorResult(result) {\n              var message = result.value;\n              var content = {data: message.data};\n              var metadata = message.metadata || {comm_id};\n              var msg = {content, metadata}\n              msg_handler(msg);\n              return messages.next().then(processIteratorResult);\n            }\n            return messages.next().then(processIteratorResult);\n          }\n        }) \n        var sendClosure = (data, metadata, buffers, disposeOnDone) => {\n          return comm_promise.then((comm) => {\n            comm.send(data, metadata, buffers, disposeOnDone);\n          });\n        };\n        var comm = {\n          send: sendClosure\n        };\n      }\n      window.PyViz.comms[comm_id] = comm;\n      return comm;\n    }\n    window.PyViz.comm_manager = new JupyterCommManager();\n    \n\n\nvar JS_MIME_TYPE = 'application/javascript';\nvar HTML_MIME_TYPE = 'text/html';\nvar EXEC_MIME_TYPE = 'application/vnd.holoviews_exec.v0+json';\nvar CLASS_NAME = 'output';\n\n/**\n * Render data to the DOM node\n */\nfunction render(props, node) {\n  var div = document.createElement(\"div\");\n  var script = document.createElement(\"script\");\n  node.appendChild(div);\n  node.appendChild(script);\n}\n\n/**\n * Handle when a new output is added\n */\nfunction handle_add_output(event, handle) {\n  var output_area = handle.output_area;\n  var output = handle.output;\n  if ((output.data == undefined) || (!output.data.hasOwnProperty(EXEC_MIME_TYPE))) {\n    return\n  }\n  var id = output.metadata[EXEC_MIME_TYPE][\"id\"];\n  var toinsert = output_area.element.find(\".\" + CLASS_NAME.split(' ')[0]);\n  if (id !== undefined) {\n    var nchildren = toinsert.length;\n    var html_node = toinsert[nchildren-1].children[0];\n    html_node.innerHTML = output.data[HTML_MIME_TYPE];\n    var scripts = [];\n    var nodelist = html_node.querySelectorAll(\"script\");\n    for (var i in nodelist) {\n      if (nodelist.hasOwnProperty(i)) {\n        scripts.push(nodelist[i])\n      }\n    }\n\n    scripts.forEach( function (oldScript) {\n      var newScript = document.createElement(\"script\");\n      var attrs = [];\n      var nodemap = oldScript.attributes;\n      for (var j in nodemap) {\n        if (nodemap.hasOwnProperty(j)) {\n          attrs.push(nodemap[j])\n        }\n      }\n      attrs.forEach(function(attr) { newScript.setAttribute(attr.name, attr.value) });\n      newScript.appendChild(document.createTextNode(oldScript.innerHTML));\n      oldScript.parentNode.replaceChild(newScript, oldScript);\n    });\n    if (JS_MIME_TYPE in output.data) {\n      toinsert[nchildren-1].children[1].textContent = output.data[JS_MIME_TYPE];\n    }\n    output_area._hv_plot_id = id;\n    if ((window.Bokeh !== undefined) && (id in Bokeh.index)) {\n      window.PyViz.plot_index[id] = Bokeh.index[id];\n    } else {\n      window.PyViz.plot_index[id] = null;\n    }\n  } else if (output.metadata[EXEC_MIME_TYPE][\"server_id\"] !== undefined) {\n    var bk_div = document.createElement(\"div\");\n    bk_div.innerHTML = output.data[HTML_MIME_TYPE];\n    var script_attrs = bk_div.children[0].attributes;\n    for (var i = 0; i < script_attrs.length; i++) {\n      toinsert[toinsert.length - 1].childNodes[1].setAttribute(script_attrs[i].name, script_attrs[i].value);\n    }\n    // store reference to server id on output_area\n    output_area._bokeh_server_id = output.metadata[EXEC_MIME_TYPE][\"server_id\"];\n  }\n}\n\n/**\n * Handle when an output is cleared or removed\n */\nfunction handle_clear_output(event, handle) {\n  var id = handle.cell.output_area._hv_plot_id;\n  var server_id = handle.cell.output_area._bokeh_server_id;\n  if (((id === undefined) || !(id in PyViz.plot_index)) && (server_id !== undefined)) { return; }\n  var comm = window.PyViz.comm_manager.get_client_comm(\"hv-extension-comm\", \"hv-extension-comm\", function () {});\n  if (server_id !== null) {\n    comm.send({event_type: 'server_delete', 'id': server_id});\n    return;\n  } else if (comm !== null) {\n    comm.send({event_type: 'delete', 'id': id});\n  }\n  delete PyViz.plot_index[id];\n  if ((window.Bokeh !== undefined) & (id in window.Bokeh.index)) {\n    var doc = window.Bokeh.index[id].model.document\n    doc.clear();\n    const i = window.Bokeh.documents.indexOf(doc);\n    if (i > -1) {\n      window.Bokeh.documents.splice(i, 1);\n    }\n  }\n}\n\n/**\n * Handle kernel restart event\n */\nfunction handle_kernel_cleanup(event, handle) {\n  delete PyViz.comms[\"hv-extension-comm\"];\n  window.PyViz.plot_index = {}\n}\n\n/**\n * Handle update_display_data messages\n */\nfunction handle_update_output(event, handle) {\n  handle_clear_output(event, {cell: {output_area: handle.output_area}})\n  handle_add_output(event, handle)\n}\n\nfunction register_renderer(events, OutputArea) {\n  function append_mime(data, metadata, element) {\n    // create a DOM node to render to\n    var toinsert = this.create_output_subarea(\n    metadata,\n    CLASS_NAME,\n    EXEC_MIME_TYPE\n    );\n    this.keyboard_manager.register_events(toinsert);\n    // Render to node\n    var props = {data: data, metadata: metadata[EXEC_MIME_TYPE]};\n    render(props, toinsert[0]);\n    element.append(toinsert);\n    return toinsert\n  }\n\n  events.on('output_added.OutputArea', handle_add_output);\n  events.on('output_updated.OutputArea', handle_update_output);\n  events.on('clear_output.CodeCell', handle_clear_output);\n  events.on('delete.Cell', handle_clear_output);\n  events.on('kernel_ready.Kernel', handle_kernel_cleanup);\n\n  OutputArea.prototype.register_mime_type(EXEC_MIME_TYPE, append_mime, {\n    safe: true,\n    index: 0\n  });\n}\n\nif (window.Jupyter !== undefined) {\n  try {\n    var events = require('base/js/events');\n    var OutputArea = require('notebook/js/outputarea').OutputArea;\n    if (OutputArea.prototype.mime_types().indexOf(EXEC_MIME_TYPE) == -1) {\n      register_renderer(events, OutputArea);\n    }\n  } catch(err) {\n  }\n}\n",
      "application/vnd.holoviews_load.v0+json": ""
     },
     "metadata": {},
     "output_type": "display_data"
    },
    {
     "data": {
      "text/html": [
       "<style>*[data-root-id],\n",
       "*[data-root-id] > * {\n",
       "  box-sizing: border-box;\n",
       "  font-family: var(--jp-ui-font-family);\n",
       "  font-size: var(--jp-ui-font-size1);\n",
       "  color: var(--vscode-editor-foreground, var(--jp-ui-font-color1));\n",
       "}\n",
       "\n",
       "/* Override VSCode background color */\n",
       ".cell-output-ipywidget-background:has(\n",
       "    > .cell-output-ipywidget-background > .lm-Widget > *[data-root-id]\n",
       "  ),\n",
       ".cell-output-ipywidget-background:has(> .lm-Widget > *[data-root-id]) {\n",
       "  background-color: transparent !important;\n",
       "}\n",
       "</style>"
      ]
     },
     "metadata": {},
     "output_type": "display_data"
    },
    {
     "data": {
      "application/vnd.holoviews_exec.v0+json": "",
      "text/html": [
       "<div id='p1002'>\n",
       "  <div id=\"eb091eb1-3ad9-4318-a309-aadc579f1c01\" data-root-id=\"p1002\" style=\"display: contents;\"></div>\n",
       "</div>\n",
       "<script type=\"application/javascript\">(function(root) {\n",
       "  var docs_json = {\"58299fa7-3232-402d-903c-d55065952cbc\":{\"version\":\"3.4.1\",\"title\":\"Bokeh Application\",\"roots\":[{\"type\":\"object\",\"name\":\"panel.models.browser.BrowserInfo\",\"id\":\"p1002\"},{\"type\":\"object\",\"name\":\"panel.models.comm_manager.CommManager\",\"id\":\"p1003\",\"attributes\":{\"plot_id\":\"p1002\",\"comm_id\":\"2692038e55ca4296b700e8b3850758f3\",\"client_comm_id\":\"aa38fe7a0332444caff19db83eb445b7\"}}],\"defs\":[{\"type\":\"model\",\"name\":\"ReactiveHTML1\"},{\"type\":\"model\",\"name\":\"FlexBox1\",\"properties\":[{\"name\":\"align_content\",\"kind\":\"Any\",\"default\":\"flex-start\"},{\"name\":\"align_items\",\"kind\":\"Any\",\"default\":\"flex-start\"},{\"name\":\"flex_direction\",\"kind\":\"Any\",\"default\":\"row\"},{\"name\":\"flex_wrap\",\"kind\":\"Any\",\"default\":\"wrap\"},{\"name\":\"gap\",\"kind\":\"Any\",\"default\":\"\"},{\"name\":\"justify_content\",\"kind\":\"Any\",\"default\":\"flex-start\"}]},{\"type\":\"model\",\"name\":\"FloatPanel1\",\"properties\":[{\"name\":\"config\",\"kind\":\"Any\",\"default\":{\"type\":\"map\"}},{\"name\":\"contained\",\"kind\":\"Any\",\"default\":true},{\"name\":\"position\",\"kind\":\"Any\",\"default\":\"right-top\"},{\"name\":\"offsetx\",\"kind\":\"Any\",\"default\":null},{\"name\":\"offsety\",\"kind\":\"Any\",\"default\":null},{\"name\":\"theme\",\"kind\":\"Any\",\"default\":\"primary\"},{\"name\":\"status\",\"kind\":\"Any\",\"default\":\"normalized\"}]},{\"type\":\"model\",\"name\":\"GridStack1\",\"properties\":[{\"name\":\"mode\",\"kind\":\"Any\",\"default\":\"warn\"},{\"name\":\"ncols\",\"kind\":\"Any\",\"default\":null},{\"name\":\"nrows\",\"kind\":\"Any\",\"default\":null},{\"name\":\"allow_resize\",\"kind\":\"Any\",\"default\":true},{\"name\":\"allow_drag\",\"kind\":\"Any\",\"default\":true},{\"name\":\"state\",\"kind\":\"Any\",\"default\":[]}]},{\"type\":\"model\",\"name\":\"drag1\",\"properties\":[{\"name\":\"slider_width\",\"kind\":\"Any\",\"default\":5},{\"name\":\"slider_color\",\"kind\":\"Any\",\"default\":\"black\"},{\"name\":\"value\",\"kind\":\"Any\",\"default\":50}]},{\"type\":\"model\",\"name\":\"click1\",\"properties\":[{\"name\":\"terminal_output\",\"kind\":\"Any\",\"default\":\"\"},{\"name\":\"debug_name\",\"kind\":\"Any\",\"default\":\"\"},{\"name\":\"clears\",\"kind\":\"Any\",\"default\":0}]},{\"type\":\"model\",\"name\":\"FastWrapper1\",\"properties\":[{\"name\":\"object\",\"kind\":\"Any\",\"default\":null},{\"name\":\"style\",\"kind\":\"Any\",\"default\":null}]},{\"type\":\"model\",\"name\":\"NotificationAreaBase1\",\"properties\":[{\"name\":\"js_events\",\"kind\":\"Any\",\"default\":{\"type\":\"map\"}},{\"name\":\"position\",\"kind\":\"Any\",\"default\":\"bottom-right\"},{\"name\":\"_clear\",\"kind\":\"Any\",\"default\":0}]},{\"type\":\"model\",\"name\":\"NotificationArea1\",\"properties\":[{\"name\":\"js_events\",\"kind\":\"Any\",\"default\":{\"type\":\"map\"}},{\"name\":\"notifications\",\"kind\":\"Any\",\"default\":[]},{\"name\":\"position\",\"kind\":\"Any\",\"default\":\"bottom-right\"},{\"name\":\"_clear\",\"kind\":\"Any\",\"default\":0},{\"name\":\"types\",\"kind\":\"Any\",\"default\":[{\"type\":\"map\",\"entries\":[[\"type\",\"warning\"],[\"background\",\"#ffc107\"],[\"icon\",{\"type\":\"map\",\"entries\":[[\"className\",\"fas fa-exclamation-triangle\"],[\"tagName\",\"i\"],[\"color\",\"white\"]]}]]},{\"type\":\"map\",\"entries\":[[\"type\",\"info\"],[\"background\",\"#007bff\"],[\"icon\",{\"type\":\"map\",\"entries\":[[\"className\",\"fas fa-info-circle\"],[\"tagName\",\"i\"],[\"color\",\"white\"]]}]]}]}]},{\"type\":\"model\",\"name\":\"Notification\",\"properties\":[{\"name\":\"background\",\"kind\":\"Any\",\"default\":null},{\"name\":\"duration\",\"kind\":\"Any\",\"default\":3000},{\"name\":\"icon\",\"kind\":\"Any\",\"default\":null},{\"name\":\"message\",\"kind\":\"Any\",\"default\":\"\"},{\"name\":\"notification_type\",\"kind\":\"Any\",\"default\":null},{\"name\":\"_destroyed\",\"kind\":\"Any\",\"default\":false}]},{\"type\":\"model\",\"name\":\"TemplateActions1\",\"properties\":[{\"name\":\"open_modal\",\"kind\":\"Any\",\"default\":0},{\"name\":\"close_modal\",\"kind\":\"Any\",\"default\":0}]},{\"type\":\"model\",\"name\":\"BootstrapTemplateActions1\",\"properties\":[{\"name\":\"open_modal\",\"kind\":\"Any\",\"default\":0},{\"name\":\"close_modal\",\"kind\":\"Any\",\"default\":0}]},{\"type\":\"model\",\"name\":\"TemplateEditor1\",\"properties\":[{\"name\":\"layout\",\"kind\":\"Any\",\"default\":[]}]},{\"type\":\"model\",\"name\":\"MaterialTemplateActions1\",\"properties\":[{\"name\":\"open_modal\",\"kind\":\"Any\",\"default\":0},{\"name\":\"close_modal\",\"kind\":\"Any\",\"default\":0}]},{\"type\":\"model\",\"name\":\"copy_to_clipboard1\",\"properties\":[{\"name\":\"fill\",\"kind\":\"Any\",\"default\":\"none\"},{\"name\":\"value\",\"kind\":\"Any\",\"default\":null}]}]}};\n",
       "  var render_items = [{\"docid\":\"58299fa7-3232-402d-903c-d55065952cbc\",\"roots\":{\"p1002\":\"eb091eb1-3ad9-4318-a309-aadc579f1c01\"},\"root_ids\":[\"p1002\"]}];\n",
       "  var docs = Object.values(docs_json)\n",
       "  if (!docs) {\n",
       "    return\n",
       "  }\n",
       "  const py_version = docs[0].version.replace('rc', '-rc.').replace('.dev', '-dev.')\n",
       "  async function embed_document(root) {\n",
       "    var Bokeh = get_bokeh(root)\n",
       "    await Bokeh.embed.embed_items_notebook(docs_json, render_items);\n",
       "    for (const render_item of render_items) {\n",
       "      for (const root_id of render_item.root_ids) {\n",
       "\tconst id_el = document.getElementById(root_id)\n",
       "\tif (id_el.children.length && id_el.children[0].hasAttribute('data-root-id')) {\n",
       "\t  const root_el = id_el.children[0]\n",
       "\t  root_el.id = root_el.id + '-rendered'\n",
       "\t  for (const child of root_el.children) {\n",
       "            // Ensure JupyterLab does not capture keyboard shortcuts\n",
       "            // see: https://jupyterlab.readthedocs.io/en/4.1.x/extension/notebook.html#keyboard-interaction-model\n",
       "\t    child.setAttribute('data-lm-suppress-shortcuts', 'true')\n",
       "\t  }\n",
       "\t}\n",
       "      }\n",
       "    }\n",
       "  }\n",
       "  function get_bokeh(root) {\n",
       "    if (root.Bokeh === undefined) {\n",
       "      return null\n",
       "    } else if (root.Bokeh.version !== py_version) {\n",
       "      if (root.Bokeh.versions === undefined || !root.Bokeh.versions.has(py_version)) {\n",
       "\treturn null\n",
       "      }\n",
       "      return root.Bokeh.versions.get(py_version);\n",
       "    } else if (root.Bokeh.version === py_version) {\n",
       "      return root.Bokeh\n",
       "    }\n",
       "    return null\n",
       "  }\n",
       "  function is_loaded(root) {\n",
       "    var Bokeh = get_bokeh(root)\n",
       "    return (Bokeh != null && Bokeh.Panel !== undefined)\n",
       "  }\n",
       "  if (is_loaded(root)) {\n",
       "    embed_document(root);\n",
       "  } else {\n",
       "    var attempts = 0;\n",
       "    var timer = setInterval(function(root) {\n",
       "      if (is_loaded(root)) {\n",
       "        clearInterval(timer);\n",
       "        embed_document(root);\n",
       "      } else if (document.readyState == \"complete\") {\n",
       "        attempts++;\n",
       "        if (attempts > 200) {\n",
       "          clearInterval(timer);\n",
       "\t  var Bokeh = get_bokeh(root)\n",
       "\t  if (Bokeh == null || Bokeh.Panel == null) {\n",
       "            console.warn(\"Panel: ERROR: Unable to run Panel code because Bokeh or Panel library is missing\");\n",
       "\t  } else {\n",
       "\t    console.warn(\"Panel: WARNING: Attempting to render but not all required libraries could be resolved.\")\n",
       "\t    embed_document(root)\n",
       "\t  }\n",
       "        }\n",
       "      }\n",
       "    }, 25, root)\n",
       "  }\n",
       "})(window);</script>"
      ]
     },
     "metadata": {
      "application/vnd.holoviews_exec.v0+json": {
       "id": "p1002"
      }
     },
     "output_type": "display_data"
    },
    {
     "data": {
      "text/html": [
       "\n",
       "<div class=\"logo-block\">\n",
       "<img src='data:image/png;base64,iVBORw0KGgoAAAANSUhEUgAAAEAAAABACAYAAACqaXHeAAAABHNCSVQICAgIfAhkiAAAAAlwSFlz\n",
       "AAAB+wAAAfsBxc2miwAAABl0RVh0U29mdHdhcmUAd3d3Lmlua3NjYXBlLm9yZ5vuPBoAAA6zSURB\n",
       "VHic7ZtpeFRVmsf/5966taWqUlUJ2UioBBJiIBAwCZtog9IOgjqACsogKtqirT2ttt069nQ/zDzt\n",
       "tI4+CrJIREFaFgWhBXpUNhHZQoKBkIUASchWla1S+3ar7r1nPkDaCAnZKoQP/D7mnPOe9/xy76n3\n",
       "nFSAW9ziFoPFNED2LLK5wcyBDObkb8ZkxuaoSYlI6ZcOKq1eWFdedqNzGHQBk9RMEwFAASkk0Xw3\n",
       "ETacDNi2vtvc7L0ROdw0AjoSotQVkKSvHQz/wRO1lScGModBFbDMaNRN1A4tUBCS3lk7BWhQkgpD\n",
       "lG4852/+7DWr1R3uHAZVQDsbh6ZPN7CyxUrCzJMRouusj0ipRwD2uKm0Zn5d2dFwzX1TCGhnmdGo\n",
       "G62Nna+isiUqhkzuKrkQaJlPEv5mFl2fvGg2t/VnzkEV8F5ioioOEWkLG86fvbpthynjdhXYZziQ\n",
       "x1hC9J2NFyi8vCTt91Fh04KGip0AaG9zuCk2wQCVyoNU3Hjezee9bq92duzzTmxsRJoy+jEZZZYo\n",
       "GTKJ6SJngdJqAfRzpze0+jHreUtPc7gpBLQnIYK6BYp/uGhw9YK688eu7v95ysgshcg9qSLMo3JC\n",
       "4jqLKQFBgdKDPoQ+Pltb8dUyQLpeDjeVgI6EgLIQFT5tEl3rn2losHVsexbZ3EyT9wE1uGdkIPcy\n",
       "BGxn8QUq1QrA5nqW5i2tLqvrrM9NK6AdkVIvL9E9bZL/oyfMVd/jqvc8LylzRBKDJSzIExwhQzuL\n",
       "QYGQj4rHfFTc8mUdu3E7yoLtbTe9gI4EqVgVkug2i5+uXGo919ixbRog+3fTbQ8qJe4ZOYNfMoTI\n",
       "OoshUNosgO60AisX15aeI2PSIp5KiFLI9ubb1vV3Qb2ltwLakUCDAkWX7/nHKRmmGIl9VgYsUhJm\n",
       "2NXjKYADtM1ygne9QQDIXlk49FBstMKx66D1v4+XuQr7vqTe0VcBHQlRWiOCbmmSYe2SqtL6q5rJ\n",
       "zsTb7lKx3FKOYC4DoqyS/B5bvLPxvD9Qtf6saxYLQGJErmDOdOMr/zo96km1nElr8bmPOBwI9COv\n",
       "HnFPRIwmkSOv9kcAS4heRsidOkpeWBgZM+UBrTFAXNYL5Vf2ii9c1trNzpYdaoVil3WIc+wdk+gQ\n",
       "noie3ecCcxt9ITcLAPWt/laGEO/9U6PmzZkenTtsSMQ8uYywJVW+grCstAvCIaAdArAsIWkRDDs/\n",
       "KzLm2YcjY1Lv0UdW73HabE9n6V66cxSzfEmuJssTpKGVp+0vHq73FwL46eOjpMpbRAnNmJFrGJNu\n",
       "Ukf9Yrz+3rghiumCKNXXWPhLYcjxGsIpoCMsIRoFITkW8AuyM8jC1+/QLx4bozCEJIq38+1rtpR6\n",
       "V/yzb8eBlRb3fo5l783N0CWolAzJHaVNzkrTzlEp2bQ2q3TC5gn6wpnoQAmwSiGh2GitnTmVMc5O\n",
       "UyfKWUKCIsU7+fZDKwqdT6DDpvkzAX4/+AMFjk0tDp5GRXLpQ2MUmhgDp5gxQT8+Y7hyPsMi8uxF\n",
       "71H0oebujHALECjFKaW9Lm68n18wXp2kVzIcABytD5iXFzg+WVXkegpAsOOYziqo0OkK76GyquC3\n",
       "ltZAzMhhqlSNmmWTE5T6e3IN05ITFLM4GdN0vtZ3ob8Jh1NAKXFbm5PtLU/eqTSlGjkNAJjdgn/N\n",
       "aedXa0tdi7+t9G0FIF49rtMSEgAs1kDLkTPO7ebm4IUWeyh1bKomXqlgMG6kJmHcSM0clYLJ8XtR\n",
       "1GTnbV3F6I5wCGikAb402npp1h1s7LQUZZSMIfALFOuL3UUrfnS8+rez7v9qcold5tilgHbO1fjK\n",
       "9ubb17u9oshxzMiUBKXWqJNxd+fqb0tLVs4lILFnK71H0Ind7uiPgACVcFJlrb0tV6DzxqqTIhUM\n",
       "CwDf1/rrVhTa33/3pGPxJYdQ2l2cbgVcQSosdx8uqnDtbGjh9SlDVSMNWhlnilfqZk42Th2ZpLpf\n",
       "xrHec5e815zrr0dfBZSwzkZfqsv+1FS1KUknUwPARVvItfKUY+cn57yP7qv07UE3p8B2uhUwLk09\n",
       "e0SCOrK+hbdYHYLjRIl71wWzv9jpEoeOHhGRrJAzyEyNiJuUqX0g2sBN5kGK6y2Blp5M3lsB9Qh4\n",
       "y2Ja6x6+i0ucmKgwMATwhSjdUu49tKrQ/pvN5d53ml2CGwCmJipmKjgmyuaXzNeL2a0AkQ01Th5j\n",
       "2DktO3Jyk8f9vcOBQHV94OK+fPumJmvQHxJoWkaKWq9Vs+yUsbq0zGT1I4RgeH2b5wef7+c7bl8F\n",
       "eKgoHVVZa8ZPEORzR6sT1BzDUAD/d9F78e2Tzv99v8D+fLVTqAKAsbGamKey1Mt9Ann4eH3gTXTz\n",
       "idWtAJ8PQWOk7NzSeQn/OTHDuEikVF1R4z8BQCy+6D1aWRfY0tTGG2OM8rRoPaeIj5ZHzJxszElN\n",
       "VM8K8JS5WOfv8mzRnQAKoEhmt8gyPM4lU9SmBK1MCQBnW4KONT86v1hZ1PbwSXPw4JWussVjtH9Y\n",
       "NCoiL9UoH/6PSu8jFrfY2t36erQHXLIEakMi1SydmzB31h3GGXFDFNPaK8Rme9B79Ixrd0WN+1ij\n",
       "NRQ/doRmuFLBkHSTOm5GruG+pFjFdAmorG4IXH1Qua6ASniclfFtDYt+oUjKipPrCQB7QBQ2lrgP\n",
       "fFzm+9XWUtcqJ3/5vDLDpJ79XHZk3u8nGZ42qlj1+ydtbxysCezrydp6ugmipNJ7WBPB5tydY0jP\n",
       "HaVNzs3QzeE4ZpTbI+ZbnSFPbVOw9vsfnVvqWnirPyCNGD08IlqtYkh2hjZ5dErEQzoNm+6ykyOt\n",
       "Lt5/PQEuSRRKo22VkydK+vvS1XEKlhCJAnsqvcVvH7f/ZU2R67eXbMEGAMiIV5oWZWiWvz5Fv2xG\n",
       "sjqNJQRvn3Rs2lji/lNP19VjAQDgD7FHhujZB9OGqYxRkZxixgRDVlqS6uEOFaJUVu0rPFzctrnF\n",
       "JqijImVp8dEKVWyUXDk92zAuMZ6bFwpBU1HrOw6AdhQgUooChb0+ItMbWJitSo5Ws3IAOGEOtL53\n",
       "0vHZih9sC4vtofZ7Qu6523V/fmGcds1TY3V36pUsBwAbSlxnVh2xLfAD/IAIMDf7XYIkNmXfpp2l\n",
       "18rkAJAy9HKFaIr/qULkeQQKy9zf1JgDB2uaeFNGijo5QsUyacNUUTOnGO42xSnv4oOwpDi1zYkc\n",
       "efUc3I5Gk6PhyTuVKaOGyLUAYPGIoY9Pu/atL/L92+4q9wbflRJ2Trpm/jPjdBtfnqB/dIThcl8A\n",
       "KG7hbRuKnb8qsQsVvVlTrwQAQMUlf3kwJI24Z4JhPMtcfng5GcH49GsrxJpGvvHIaeem2ma+KSjQ\n",
       "lIwUdYyCY8j4dE1KzijNnIP2llF2wcXNnsoapw9XxsgYAl6k+KzUXbi2yP3KR2ecf6z3BFsBICdW\n",
       "nvnIaG3eHybqX7vbpEqUMT+9OL4Qpe8VON7dXuFd39v19FoAABRVePbGGuXTszO0P7tu6lghUonE\n",
       "llRdrhArLvmKdh9u29jcFiRRkfLUxBiFNiqSU9icoZQHo5mYBI1MBgBH6wMNb+U7Pnw337H4gi1Y\n",
       "ciWs+uks3Z9fztUvfzxTm9Ne8XXkvQLHNytOOZeiD4e0PgkAIAYCYknKUNUDSXEKzdWNpnil7r4p\n",
       "xqkjTarZMtk/K8TQ6Qve78qqvXurGwIJqcOUKfUWHsm8KGvxSP68YudXq4pcj39X49uOK2X142O0\n",
       "Tz5/u/7TVybqH0rSya6ZBwD21/gubbrgWdDgEOx9WUhfBaC2ibcEBYm7a7x+ukrBMNcEZggyR0TE\n",
       "T8zUPjikQ4VosQZbTpS4vqizBKvqmvjsqnpfzaZyx9JPiz1/bfGKdgD45XB1zoIMzYbfTdS/NClB\n",
       "Gct0USiY3YL/g0LHy/uq/Ef6uo5+n0R/vyhp17Klpge763f8rMu6YU/zrn2nml+2WtH+Z+5IAAFc\n",
       "2bUTdTDOSNa9+cQY7YLsOIXhevEkCvzph7a8laecz/Un/z4/Ae04XeL3UQb57IwU9ZDr9UuKVajv\n",
       "nxp1+1UVIo/LjztZkKH59fO3G/JemqCfmaCRqbqbd90ZZ8FfjtkfAyD0J/9+C2h1hDwsSxvGjNDc\n",
       "b4zk5NfrSwiQblLHzZhg+Jf4aPlUwpDqkQqa9nimbt1/TDH8OitGMaQnj+RJS6B1fbF7SY1TqO5v\n",
       "/v0WAADl1f7zokgS7s7VT2DZ7pegUjBM7mjtiDZbcN4j0YrHH0rXpCtY0qPX0cVL0rv5jv/ZXend\n",
       "0u/EESYBAFBU4T4Qa5TflZOhTe7pmKpaP8kCVUVw1+yhXfJWvn1P3hnXi33JsTN6PnP3hHZ8Z3/h\n",
       "aLHzmkNPuPj7Bc/F/Q38CwjTpSwQXgE4Vmwry9tpfq/ZFgqFMy4AVDtCvi8rvMvOmv0N4YwbVgEA\n",
       "sPM72/KVnzfspmH7HQGCRLG2yL1+z8XwvPcdCbsAANh+xPzstgMtxeGKt+6MK3/tacfvwhWvIwMi\n",
       "oKEBtm0H7W+UVfkc/Y1V0BhoPlDr/w1w/eu1vjIgAgDg22OtX6/eYfnEz/focrZTHAFR+PSs56/7\n",
       "q32nwpjazxgwAQCwcU/T62t3WL7r6/jVRa6/byp1rei+Z98ZUAEAhEPHPc8fKnTU9nbgtnOe8h0l\n",
       "9hcGIqmODLQAHCy2Xti6v/XNRivf43f4fFvIteu854+VHnR7q9tfBlwAAGz+pnndB9vM26UebAe8\n",
       "SLHujPOTPVW+rwY+sxskAAC2HrA8t2Vvc7ffP1r9o+vwR2dcr92InIAbKKC1FZ5tB1tf+/G8p8sv\n",
       "N/9Q5zd/XR34LYCwV5JdccMEAMDBk45DH243r/X4xGvqxFa/GNpS7n6rwOwNWwHVE26oAADYurf1\n",
       "zx/utOzt+DMKYM0p17YtZZ5VNzqfsB2HewG1WXE8PoZ7gOclbTIvynZf9JV+fqZtfgs/8F/Nu5rB\n",
       "EIBmJ+8QRMmpU7EzGRsf2FzuePqYRbzh/zE26EwdrT10f6r6o8HOYzCJB9Dpff8tbnGLG8L/A/WE\n",
       "roTBs2RqAAAAAElFTkSuQmCC'\n",
       "     style='height:25px; border-radius:12px; display: inline-block; float: left; vertical-align: middle'></img>\n",
       "\n",
       "\n",
       "  <img src='data:image/png;base64,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'\n",
       "       style='height:15px; border-radius:12px; display: inline-block; float: left'></img>\n",
       "  \n",
       "\n",
       "\n",
       "\n",
       "\n",
       "</div>\n"
      ]
     },
     "metadata": {},
     "output_type": "display_data"
    }
   ],
   "source": [
    "from qstream.qm.live_plotting import Live_plot_handler\n",
    "import numpy as np\n",
    "from OPX_live_controller import VirtualGateSetMeasurement, QuAM\n",
    "from qmucph.quam_mods.quam_mods import InOutSingleChannel_M\n",
    "from quam.components.virtual_gate_set import VirtualGateSet\n",
    "from quam.core import QuamRoot, quam_dataclass\n",
    "from quam.components import SingleChannel, StickyChannelAddon, pulses, VirtualPulse, InOutSingleChannel\n",
    "from dataclasses import field\n",
    "from typing import List, Dict\n",
    "from qm.qua import program, declare, fixed, for_, stream_processing, declare_stream, save, ramp_to_zero, align, wait\n",
    "from qualang_tools.loops import from_array\n",
    "import pprint\n",
    "from copy import deepcopy\n",
    "import matplotlib.pyplot as plt"
   ]
  },
  {
   "cell_type": "code",
   "execution_count": 3,
   "metadata": {},
   "outputs": [],
   "source": [
    "# class Virt2(VirtualGateSetMeasurement):\n",
    "#     def do_one_map(self, I_stream, Q_stream):\n",
    "#         amplitude_scale_slow = declare(fixed)\n",
    "#         small_jumps = declare(int)\n",
    "#         with for_(\n",
    "#             *from_array(amplitude_scale_slow, np.linspace(-1, 1, self.resolution))\n",
    "#         ):\n",
    "            \n",
    "#             self.quam.align_all()\n",
    "#             self.quam.VirtualGateSet1.play(\n",
    "#                 \"slow_pulse\",\n",
    "#                 amplitude_scale_slow)\n",
    "\n",
    "#             self.quam.VirtualGateSet2.play(\n",
    "#                 \"big_pulse\",\n",
    "#             )\n",
    "#             wait(self.buffer_time_clk)\n",
    "#             i_var, q_var = self.quam.resonator.measure(\"readout\")\n",
    "#             save(i_var, I_stream)\n",
    "#             save(q_var, Q_stream)\n",
    "\n",
    "#             # wait(1000)\n",
    "\n",
    "#             with for_(*from_array(small_jumps, range(self.resolution-1))):\n",
    "#                 self.quam.VirtualGateSet2.play(\n",
    "#                     \"small_pulse\",\n",
    "#                 )\n",
    "#                 wait(self.buffer_time_clk, self.quam.resonator.id)\n",
    "#                 i_var, q_var = self.quam.resonator.measure(\"readout\")\n",
    "#                 save(i_var, I_stream)\n",
    "#                 save(q_var, Q_stream)\n",
    "#                 # wait(1000)\n",
    "\n",
    "#             for gate in self.quam.gates:\n",
    "#                 ramp_to_zero(gate, duration=1)\n",
    "\n",
    "#             # Do correction\n",
    "\n",
    "#             self.quam.VirtualGateSet1.play(\"slow_pulse\", -1 * amplitude_scale_slow)\n",
    "#             self.quam.VirtualGateSet2.play(\"big_pulse\", -1)\n",
    "#             # wait(self.readout_time_clk + self.buffer_time_clk)\n",
    "\n",
    "#             with for_(*from_array(small_jumps, range(self.resolution-1))):\n",
    "#                 self.quam.VirtualGateSet2.play(\"small_pulse\", amplitude_scale=-1)\n",
    "#                 # wait(self.buffer_time_clk)\n",
    "#                 # i_var, q_var = self.quam.resonator.measure(\"readout\")\n",
    "\n",
    "#             self.quam.align_all()\n",
    "#             for gate in self.quam.gates:\n",
    "#                 ramp_to_zero(gate, duration=1)\n",
    "\n",
    "#             wait(100)"
   ]
  },
  {
   "cell_type": "code",
   "execution_count": 4,
   "metadata": {},
   "outputs": [],
   "source": [
    "# import numpy as np\n",
    "# from OPX_live_controller import VirtualGateSetMeasurement, QuAM\n",
    "# from qmucph.quam_mods.quam_mods import InOutSingleChannel_M\n",
    "# from quam.components.virtual_gate_set import VirtualGateSet\n",
    "# from quam.core import QuamRoot, quam_dataclass\n",
    "# from quam.components import SingleChannel, StickyChannelAddon, pulses, VirtualPulse, InOutSingleChannel\n",
    "# from dataclasses import field\n",
    "# from typing import List, Dict\n",
    "# from qm.qua import program, declare, fixed, for_, stream_processing, declare_stream, save, ramp_to_zero, align, wait\n",
    "# from qualang_tools.loops import from_array\n",
    "# import pprint\n",
    "# from copy import deepcopy\n",
    "# import matplotlib.pyplot as plt\n",
    "\n",
    "\n",
    "# machine = QuAM()\n",
    "\n",
    "# machine.gates = {\n",
    "#     \"left_inner_dot_plunger\": SingleChannel(\n",
    "#         id=\"left_inner_dot_plunger\",\n",
    "#         opx_output=(\"con1\", 4),\n",
    "#         sticky=StickyChannelAddon(duration=200, digital=False),\n",
    "\n",
    "#     ),\n",
    "#     # \"right_inner_dot_plunger\": SingleChannel(\n",
    "#     #     id=\"right_inner_dot_plunger\",\n",
    "#     #     opx_output=(\"con1\", 6),\n",
    "#     #     sticky=StickyChannelAddon(duration=200, digital=False),\n",
    "#     # ),\n",
    "#     \"sensor_plunger\": SingleChannel(\n",
    "#         id=\"sensor_plunger\",\n",
    "#         opx_output=(\"con1\", 5),\n",
    "#         sticky=StickyChannelAddon(duration=200, digital=False),\n",
    "#     ),\n",
    "#     \"sensor_plunger\": SingleChannel(\n",
    "#         id=\"sensor_plunger\",\n",
    "#         opx_output=(\"con1\", 3),\n",
    "#         sticky=StickyChannelAddon(duration=200, digital=False),\n",
    "#     ),\n",
    "#     \"left_inner_dot_plunger_copy\": SingleChannel(\n",
    "#         id=\"left_inner_dot_plunger_copy\",\n",
    "#         opx_output=(\"con1\", 4),\n",
    "#         sticky=StickyChannelAddon(duration=200, digital=False),\n",
    "\n",
    "#     ),\n",
    "#     # \"right_inner_dot_plunger_copy\": SingleChannel(\n",
    "#     #     id=\"right_inner_dot_plunger_copy\",\n",
    "#     #     opx_output=(\"con1\", 6),\n",
    "#     #     sticky=StickyChannelAddon(duration=200, digital=False),\n",
    "#     # ),\n",
    "#     \"sensor_plunger_copy\": SingleChannel(\n",
    "#         id=\"sensor_plunger_copy\",\n",
    "#         opx_output=(\"con1\", 5),\n",
    "#         sticky=StickyChannelAddon(duration=200, digital=False),\n",
    "#     ),\n",
    "#     \"sensor_plunger_copy\": SingleChannel(\n",
    "#         id=\"sensor_plunger_copy\",\n",
    "#         opx_output=(\"con1\", 3),\n",
    "#         sticky=StickyChannelAddon(duration=200, digital=False),\n",
    "#     ),\n",
    "\n",
    "# }\n",
    "\n",
    "# top_divider = 10.2\n",
    "# left_divider = 8.61\n",
    "# right_divider = 10\n",
    "# sensor_divider = 10\n",
    "\n",
    "# dividers = {'left_inner_dot_plunger':left_divider, 'right_inner_dot_plunger':right_divider, 'sensor_plunger': sensor_divider,\n",
    "#             'left_inner_dot_plunger_copy':left_divider, 'right_inner_dot_plunger_copy':right_divider, 'sensor_plunger_copy': sensor_divider,}\n",
    "# machine.VirtualGateSet1 = VirtualGateSet(\n",
    "#     gates=[\"#/gates/left_inner_dot_plunger\", \"#/gates/right_inner_dot_plunger\", \"#/gates/sensor_plunger\"], # Be careful with ordering\n",
    "#     virtual_gates={\"V_left_inner_dot_plunger\": [1, 0, 0], # [1*left_divider,0*right_divider],\n",
    "#                     \"V_right_inner_dot_plunger\": [0, 1, 0], #[0*left_divider,1*right_divider],\n",
    "#                     }, \n",
    "#     pulse_defaults=[\n",
    "#         pulses.SquarePulse(amplitude=None, length=None),\n",
    "#         pulses.SquarePulse(amplitude=None, length=None),\n",
    "#         pulses.SquarePulse(amplitude=None, length=None),\n",
    "#     ],\n",
    "# )\n",
    "\n",
    "# machine.VirtualGateSet2 = VirtualGateSet(\n",
    "#     gates=[\"#/gates/left_inner_dot_plunger_copy\", \"#/gates/right_inner_dot_plunger_copy\",\"#/gates/sensor_plunger_copy\"], # Be careful with ordering\n",
    "#     virtual_gates={\"V_left_inner_dot_plunger\": [1, 0, 0], # [1*left_divider,0*right_divider],\n",
    "#                     \"V_right_inner_dot_plunger\": [0, 1, 0], #[0*left_divider,1*right_divider],\n",
    "#                     }, \n",
    "#     pulse_defaults=[\n",
    "#         pulses.SquarePulse(amplitude=None, length=None),\n",
    "#         pulses.SquarePulse(amplitude=None, length=None),\n",
    "#         pulses.SquarePulse(amplitude=None, length=None),\n",
    "#     ],\n",
    "# )\n",
    "\n",
    "# # machine.gates[\"left_inner_dot_plunger\"].operations[\"CW\"] = pulses.SquarePulse(length=100, amplitude=0.25)\n",
    "# # machine.gates[\"right_inner_dot_plunger\"].operations[\"CW\"] = pulses.SquarePulse(length=100, amplitude=0.25)\n",
    "\n",
    "\n",
    "# ############################################################## multiple sensor readout\n",
    "# machine.resonator = InOutSingleChannel(\n",
    "#     id=\"T_sensor\",\n",
    "#     opx_output=(\"con1\", 1),\n",
    "#     opx_input=(\"con1\", 1),\n",
    "#     intermediate_frequency=176553106,\n",
    "#     time_of_flight=400,\n",
    "#     )\n",
    "\n",
    "# # machine.resonators['T_sensor'].operations[\"readout\"] = pulses.ConstantReadoutPulse(\n",
    "# #     length=5000, amplitude=0.1, integration_weights_angle=2.475, axis_angle=None\n",
    "# # )\n",
    "\n",
    "# # config = machine.generate_config()\n",
    "\n",
    "# # with open('quam_config.json', 'w') as f:\n",
    "# #     json.dump(quam_config, f, indent=4)\n",
    "    \n"
   ]
  },
  {
   "cell_type": "code",
   "execution_count": 3,
   "metadata": {},
   "outputs": [
    {
     "data": {
      "text/plain": [
       "-0.0203078"
      ]
     },
     "execution_count": 3,
     "metadata": {},
     "output_type": "execute_result"
    }
   ],
   "source": [
    "A = np.array([[ 1.        ,  0.        ,  0.        ,  0.        ,  0.        ,\n",
    "         0.        ],\n",
    "       [ 0.        ,  1.        ,  0.        ,  0.        ,  0.        ,\n",
    "         0.        ],\n",
    "       [ 0.        ,  0.        ,  1.        ,  0.        ,  0.        ,\n",
    "         0.        ],\n",
    "       [-0.49607568, -0.0203078 , -0.00597634,  1.0006717 , -0.01973169,\n",
    "        -0.02148331],\n",
    "       [-0.09711623, -0.58241478,  0.02543468, -0.02612058,  0.99944464,\n",
    "        -0.02792331],\n",
    "       [-0.05531018, -0.16485922, -0.65775079, -0.00760405,  0.0198886 ,\n",
    "         1.        ]])\n",
    "\n",
    "A[3,1]"
   ]
  },
  {
   "cell_type": "code",
   "execution_count": 6,
   "metadata": {},
   "outputs": [
    {
     "name": "stdout",
     "output_type": "stream",
     "text": [
      "reset machine (qua program).\n",
      "machine (qua program) is generated.\n"
     ]
    }
   ],
   "source": [
    "from OPX_live_controller import make_quam\n",
    "\n",
    "try:\n",
    "    machine\n",
    "    print('reset machine (qua program).')\n",
    "    del machine\n",
    "except NameError:\n",
    "    print('machine is not defined. Continue...')\n",
    "\n",
    "machine = make_quam(\n",
    "                    gates= {'left_inner_dot_plunger': 4, \n",
    "                            'right_inner_dot_plunger': 6,\n",
    "                            'T_sensor_plunger': 3,\n",
    "                            'L_sensor_plunger': 5,\n",
    "                    },\n",
    "                    # {Y axis, X axis}\n",
    "                    virtual_gates = {'V_left_inner_dot_plunger': [1,0,A[3,1],A[4,1]],#,A[4,1]],\n",
    "                                    'V_right_innder_dot_plunger': [0,1,A[3,2],A[4,2]],#,A[4,2]],\n",
    "                    },\n",
    "                    resonator_input= 1,\n",
    "                    resonator_output = 1,\n",
    "                    resonator_freqs= {'T_sensor':176553106,'L_sensor':206482412}, #T: 176553106, L:206482412, R:255904522\n",
    "                    resonator_time_of_flight = 400,\n",
    "                    controller= \"con1\")\n",
    "top_divider = 10.2\n",
    "left_divider = 8.61\n",
    "right_divider = 10\n",
    "sensor_divider = 10\n",
    "\n",
    "dividers = {'left_inner_dot_plunger':left_divider, 'right_inner_dot_plunger': right_divider, 'T_sensor_plunger':sensor_divider, 'L_sensor_plunger':sensor_divider,\n",
    "            'left_inner_dot_plunger_copy':left_divider, 'right_inner_dot_plunger_copy': right_divider, 'T_sensor_plunger_copy': sensor_divider,'L_sensor_plunger_copy': sensor_divider,}\n",
    "\n",
    "print('machine (qua program) is generated.')"
   ]
  },
  {
   "cell_type": "code",
   "execution_count": 110,
   "metadata": {},
   "outputs": [
    {
     "name": "stdout",
     "output_type": "stream",
     "text": [
      "reset machine (qua program).\n",
      "machine (qua program) is generated.\n"
     ]
    }
   ],
   "source": [
    "try:\n",
    "\tmachine\n",
    "\tprint('reset machine (qua program).')\n",
    "\tdel machine\n",
    "except NameError:\n",
    "\tprint('machine is not defined. Continue...')\n",
    "\n",
    "machine = make_quam(\n",
    "\t\t\t\t\tgates= {'top_inner_dot_plunger': 2,\n",
    "\t\t\t\t\t\t\t'left_inner_dot_plunger': 4,\n",
    "\t\t\t\t\t\t\t'L_sensor_plunger': 5,\n",
    "\t\t\t\t\t\t\t'R_sensor_plunger': 7\n",
    "\t\t\t\t\t},\n",
    "\t\t\t\t\tvirtual_gates = {'V_top_inner_dot_plunger': [1,0,A[4,0],A[5,0]],\n",
    "\t\t\t\t\t\t\t\t\t'V_left_inner_dot_plunger': [0,1,A[4,1],A[5,1]],\n",
    "\t\t\t\t\t},\n",
    "\t\t\t\t\tresonator_input= 1,\n",
    "\t\t\t\t\tresonator_output = 1,\n",
    "\t\t\t\t\tresonator_freqs= {'L_sensor':206482412,'R_sensor':255904522}, #T: 176553106, L:206482412, R:255904522\n",
    "\t\t\t\t\tresonator_time_of_flight = 400,\n",
    "\t\t\t\t\tcontroller= 'con1')\n",
    "top_divider = 10.2\n",
    "left_divider = 8.61\n",
    "right_divider = 10\n",
    "sensor_divider = 10\n",
    "dividers = {'top_inner_dot_plunger':left_divider, 'left_inner_dot_plunger': right_divider, 'L_sensor_plunger':sensor_divider, 'R_sensor_plunger':sensor_divider,\n",
    "\t\t\t'top_inner_dot_plunger_copy':left_divider, 'left_inner_dot_plunger_copy': right_divider, 'L_sensor_plunger_copy': sensor_divider,'R_sensor_plunger_copy': sensor_divider,}\n",
    "print('machine (qua program) is generated.')"
   ]
  },
  {
   "cell_type": "code",
   "execution_count": 5,
   "metadata": {},
   "outputs": [
    {
     "name": "stdout",
     "output_type": "stream",
     "text": [
      "reset machine (qua program).\n",
      "machine (qua program) is generated.\n"
     ]
    }
   ],
   "source": [
    "try:\n",
    "\tmachine\n",
    "\tprint('reset machine (qua program).')\n",
    "\tdel machine\n",
    "except NameError:\n",
    "\tprint('machine is not defined. Continue...')\n",
    "\n",
    "machine = make_quam(\n",
    "\t\t\t\t\tgates= {'top_inner_dot_plunger': 2,\n",
    "\t\t\t\t\t\t\t'right_inner_dot_plunger': 6,\n",
    "\t\t\t\t\t\t\t'T_sensor_plunger': 3,\n",
    "\t\t\t\t\t\t\t'L_sensor_plunger': 5\n",
    "\t\t\t\t\t},\n",
    "\t\t\t\t\tvirtual_gates = {'V_top_inner_dot_plunger': [1,0,A[3,0],A[4,0]],\n",
    "\t\t\t\t\t\t\t\t\t'V_right_inner_dot_plunger': [0,1,A[3,2],A[4,2]],\n",
    "\t\t\t\t\t},\n",
    "resonator_input= 1,\n",
    "resonator_output = 1,\n",
    "resonator_freqs= {'T_sensor':176553106,'L_sensor':206482412}, #T: 176553106, L:206482412, R:255904522\n",
    "resonator_time_of_flight = 400,\n",
    "controller= 'con1')\n",
    "top_divider = 10.2\n",
    "left_divider = 8.61\n",
    "right_divider = 10\n",
    "sensor_divider = 10\n",
    "dividers = {'top_inner_dot_plunger':left_divider, 'right_inner_dot_plunger': right_divider, 'T_sensor_plunger':sensor_divider, 'L_sensor_plunger':sensor_divider,\n",
    "\t\t\t'top_inner_dot_plunger_copy':left_divider, 'right_inner_dot_plunger_copy': right_divider, 'T_sensor_plunger_copy': sensor_divider,'L_sensor_plunger_copy': sensor_divider,}\n",
    "print('machine (qua program) is generated.')"
   ]
  },
  {
   "cell_type": "code",
   "execution_count": 7,
   "metadata": {},
   "outputs": [
    {
     "name": "stderr",
     "output_type": "stream",
     "text": [
      "C:\\Users\\T7\\AppData\\Local\\Temp\\ipykernel_7420\\3859265288.py:1: DeprecationWarning: 'qm.QuantumMachinesManager.QuantumMachinesManager' is moved as of 1.1.2 and will be removed in 1.2.0. use 'qm.QuantumMachinesManager' instead\n",
      "  from qm.QuantumMachinesManager import QuantumMachinesManager\n"
     ]
    },
    {
     "name": "stdout",
     "output_type": "stream",
     "text": [
      "2024-07-19 20:30:48,728 - qm - INFO     - Performing health check\n",
      "2024-07-19 20:30:48,739 - qm - INFO     - Health check passed\n"
     ]
    }
   ],
   "source": [
    "from qm.QuantumMachinesManager import QuantumMachinesManager\n",
    "actual_test = True\n",
    "if actual_test:\n",
    "    qmm=QuantumMachinesManager(host='10.209.64.165', cluster_name = \"slot_a\")\n",
    "else:\n",
    "    qmm = None\n",
    "\n",
    "old_params = False\n",
    "\n",
    "k_params = {'qmm': qmm,\n",
    "            'QuAM':machine,\n",
    "            'resolution':81,\n",
    "            'readout_time_us': 3,\n",
    "            'readout_amplitude':0.1,\n",
    "            'dividers': dividers,\n",
    "            'buffer_time_ns': 1000,\n",
    "            'opx_repetitions': 10,\n",
    "            'scan_range': 0.01,\n",
    "            'integration_weights_angle':{'T_sensor':2.475,'L_sensor':2.475},\n",
    "            }"
   ]
  },
  {
   "cell_type": "code",
   "execution_count": 8,
   "metadata": {},
   "outputs": [
    {
     "name": "stdout",
     "output_type": "stream",
     "text": [
      "DIVIDERS SHOULD NOT BE APPLIED TO VIRTUAL GATES ALREADY!!!\n",
      "2024-07-19 20:30:52,272 - qm - INFO     - Compiling program\n"
     ]
    }
   ],
   "source": [
    "from OPX_live_controller import VirtualGateSetMeasurement, VirtualGateSetMeasurementBetter\n",
    "# live_plotter = VirtualGateSetMeasurement(**k_params, make_program=True)\n",
    "live_plotter = VirtualGateSetMeasurement(**k_params, compile_program=True)\n",
    "# live_plotter.virtual_getters['V_left_inner_dot_plunger_to_left_inner_dot_plunger']()"
   ]
  },
  {
   "cell_type": "code",
   "execution_count": 11,
   "metadata": {},
   "outputs": [],
   "source": [
    "# from opx_tools.opx_setup import simulate_program\n",
    "# live_plotter_2 = VirtualGateSetMeasurementBetter(**k_params_2, make_program=True)\n",
    "# samples = simulate_program(qmm, live_plotter_2.program, live_plotter_2.config, 1e5)"
   ]
  },
  {
   "cell_type": "code",
   "execution_count": 12,
   "metadata": {},
   "outputs": [],
   "source": [
    "# import matplotlib.pyplot as plt\n",
    "# ch1 = samples.con1.analog['4']\n",
    "# ch2 = samples.con1.analog['6']\n",
    "# sens = samples.con1.analog['1']\n",
    "# fig, ax = plt.subplots()\n",
    "# ax.plot(ch1)#[:12000])\n",
    "# ax.plot(ch2)#[:12000])\n",
    "\n",
    "# # ax.twinx().plot(sens[:12000], '--',c='r')"
   ]
  },
  {
   "cell_type": "code",
   "execution_count": 9,
   "metadata": {},
   "outputs": [
    {
     "name": "stdout",
     "output_type": "stream",
     "text": [
      "Logging hadn't been started.\n",
      "Activating auto-logging. Current session state plus future input saved.\n",
      "Filename       : C:\\Users\\T7\\.qcodes\\logs\\command_history.log\n",
      "Mode           : append\n",
      "Output logging : True\n",
      "Raw input log  : False\n",
      "Timestamping   : True\n",
      "State          : active\n",
      "Qcodes Logfile : C:\\Users\\T7\\.qcodes\\logs\\240719-7420-qcodes.log\n"
     ]
    }
   ],
   "source": [
    "%run -i \"F:\\qcodes_local\\Tsung-Lin\\202407\\0_initialization.py\""
   ]
  },
  {
   "cell_type": "code",
   "execution_count": 10,
   "metadata": {},
   "outputs": [
    {
     "name": "stdout",
     "output_type": "stream",
     "text": [
      "Connected to: QDevil QDAC-II (serial:173, firmware:7-0.17.5) in 0.50s\n",
      "Connected to: OXFORD INSTRUMENTS MERCURY IPS (serial:122250241, firmware:2.2.6.5) in 0.07s\n",
      "Connected to: Mini-Circuits  (serial:MN=RCDAT-6000-60, firmware:SN=11908290032) in 0.03s\n"
     ]
    }
   ],
   "source": [
    "%run -i \"F:\\qcodes_local\\Tsung-Lin\\202407\\1_station_instruement.py\""
   ]
  },
  {
   "cell_type": "code",
   "execution_count": 11,
   "metadata": {},
   "outputs": [],
   "source": [
    "%run -i \"F:\\qcodes_local\\Tsung-Lin\\202407\\2_functions.py\""
   ]
  },
  {
   "cell_type": "code",
   "execution_count": 12,
   "metadata": {},
   "outputs": [
    {
     "name": "stdout",
     "output_type": "stream",
     "text": [
      "qdacII_A_ch01 output range has changed to LOW\n",
      "qdacII_A_ch02 output range has changed to LOW\n",
      "qdacII_A_ch03 output range has changed to LOW\n",
      "qdacII_A_ch04 output range has changed to LOW\n",
      "qdacII_A_ch05 output range has changed to LOW\n",
      "qdacII_A_ch06 output range has changed to LOW\n",
      "qdacII_A_ch07 output range has changed to LOW\n",
      "qdacII_A_ch08 output range has changed to LOW\n",
      "qdacII_A_ch09 output range has changed to LOW\n",
      "qdacII_A_ch10 output range has changed to LOW\n",
      "qdacII_A_ch11 output range has changed to LOW\n",
      "qdacII_A_ch12 output range has changed to LOW\n",
      "qdacII_A_ch13 output range has changed to LOW\n",
      "qdacII_A_ch14 output range has changed to LOW\n",
      "qdacII_A_ch15 output range has changed to LOW\n",
      "qdacII_A_ch16 output range has changed to LOW\n",
      "qdacII_A_ch17 output range has changed to LOW\n",
      "qdacII_A_ch18 output range has changed to LOW\n",
      "qdacII_A_ch19 output range has changed to LOW\n",
      "qdacII_A_ch20 output range has changed to LOW\n",
      "qdacII_A_ch21 output range has changed to LOW\n",
      "qdacII_A_ch22 output range has changed to LOW\n",
      "qdacII_A_ch23 output range has changed to LOW\n",
      "qdacII_A_ch24 output range has changed to LOW\n"
     ]
    }
   ],
   "source": [
    "all_output_range_control('low')"
   ]
  },
  {
   "cell_type": "code",
   "execution_count": 13,
   "metadata": {},
   "outputs": [
    {
     "name": "stdout",
     "output_type": "stream",
     "text": [
      "qdacII_A_ch01 step:  0.001  inter_delay:  0.001\n",
      "qdacII_A_ch02 step:  0.001  inter_delay:  0.001\n",
      "qdacII_A_ch03 step:  0.001  inter_delay:  0.001\n",
      "qdacII_A_ch04 step:  0.001  inter_delay:  0.001\n",
      "qdacII_A_ch05 step:  0.001  inter_delay:  0.001\n",
      "qdacII_A_ch06 step:  0.001  inter_delay:  0.001\n",
      "qdacII_A_ch07 step:  0.001  inter_delay:  0.001\n",
      "qdacII_A_ch08 step:  0.001  inter_delay:  0.001\n",
      "qdacII_A_ch09 step:  0.001  inter_delay:  0.001\n",
      "qdacII_A_ch10 step:  0.001  inter_delay:  0.001\n",
      "qdacII_A_ch11 step:  0.001  inter_delay:  0.001\n",
      "qdacII_A_ch12 step:  0.001  inter_delay:  0.001\n",
      "qdacII_A_ch13 step:  0.001  inter_delay:  0.001\n",
      "qdacII_A_ch14 step:  0.001  inter_delay:  0.001\n",
      "qdacII_A_ch15 step:  0.001  inter_delay:  0.001\n",
      "qdacII_A_ch16 step:  0.001  inter_delay:  0.001\n",
      "qdacII_A_ch17 step:  0.001  inter_delay:  0.001\n",
      "qdacII_A_ch18 step:  0.001  inter_delay:  0.001\n",
      "qdacII_A_ch19 step:  0.001  inter_delay:  0.001\n",
      "qdacII_A_ch20 step:  0.001  inter_delay:  0.001\n",
      "qdacII_A_ch21 step:  0.001  inter_delay:  0.001\n",
      "qdacII_A_ch22 step:  0.001  inter_delay:  0.001\n",
      "qdacII_A_ch23 step:  0.001  inter_delay:  0.001\n",
      "qdacII_A_ch24 step:  0.001  inter_delay:  0.001\n"
     ]
    }
   ],
   "source": [
    "all_ch_step_inter_delay_set(0.001,0.001)"
   ]
  },
  {
   "cell_type": "code",
   "execution_count": 14,
   "metadata": {},
   "outputs": [],
   "source": [
    "import qcodes as qc\n",
    "from qcodes.instrument.base import Instrument\n",
    "from qcodes.instrument.parameter import Parameter\n",
    "\n",
    "class DummyParameter(Parameter):\n",
    "    def get_raw(self):\n",
    "        return self._instrument.parameters[self.name].value\n",
    "\n",
    "    def set_raw(self, value):\n",
    "        self._instrument.parameters[self.name].value = value\n",
    "\n",
    "class DummyInstrument(Instrument):\n",
    "    def __init__(self, name, **kwargs):\n",
    "        super().__init__(name, **kwargs)\n",
    "\n",
    "        # bottom barrier BNC34. virtual gate matrix 5th col\n",
    "        self.add_parameter('element_15_BNC34_to_BNC07',\n",
    "                            parameter_class=DummyParameter,\n",
    "                            # initial_value=0,\n",
    "                            label='element_15_BNC34_to_BNC07',\n",
    "                            unit='V',\n",
    "                            get_parser=float,\n",
    "                            set_parser=float)\n",
    "\n",
    "        self.add_parameter('element_25_BNC34_to_BNC36',\n",
    "                            parameter_class=DummyParameter,\n",
    "                            initial_value=0,\n",
    "                            label='element_25_BNC34_to_BNC36',\n",
    "                            unit='V',\n",
    "                            get_parser=float,\n",
    "                            set_parser=float)\n",
    "        \n",
    "        self.add_parameter('element_35_BNC34_to_BNC12',\n",
    "                            parameter_class=DummyParameter,\n",
    "                            initial_value=0,\n",
    "                            label='element_35_BNC34_to_BNC12',\n",
    "                            unit='V',\n",
    "                            get_parser=float,\n",
    "                            set_parser=float)\n",
    "        \n",
    "\n",
    "        self.parameters['element_15_BNC34_to_BNC07'](0.07)\n",
    "        self.parameters['element_25_BNC34_to_BNC36'](0.4)\n",
    "        self.parameters['element_35_BNC34_to_BNC12'](0.4)\n",
    "\n",
    "        # bottom barrier BNC05. virtual gate matrix 4th col\n",
    "        self.add_parameter('element_14_BNC05_to_BNC07',\n",
    "                            parameter_class=DummyParameter,\n",
    "                            initial_value=0,\n",
    "                            label='element_15_BNC34_to_BNC12',\n",
    "                            unit='V',\n",
    "                            get_parser=float,\n",
    "                            set_parser=float)\n",
    "        \n",
    "        self.add_parameter('element_24_BNC05_to_BNC36',\n",
    "                            parameter_class=DummyParameter,\n",
    "                            initial_value=0,\n",
    "                            label='element_25_BNC34_to_BNC12',\n",
    "                            unit='V',\n",
    "                            get_parser=float,\n",
    "                            set_parser=float)\n",
    "\n",
    "\n",
    "        self.add_parameter('element_34_BNC05_to_BNC12',\n",
    "                            parameter_class=DummyParameter,\n",
    "                            initial_value=0,\n",
    "                            label='element_35_BNC34_to_BNC12',\n",
    "                            unit='V',\n",
    "                            get_parser=float,\n",
    "                            set_parser=float)\n",
    "\n",
    "        self.parameters['element_14_BNC05_to_BNC07'](0.3)\n",
    "        self.parameters['element_24_BNC05_to_BNC36'](0.4)\n",
    "        self.parameters['element_34_BNC05_to_BNC12'](0.005)\n",
    "\n",
    "        self.add_parameter('element_16_BNC19_to_BNC07',\n",
    "                                parameter_class=DummyParameter,\n",
    "                            initial_value=0,\n",
    "                            label='element_16_BNC34_to_BNC12',\n",
    "                            unit='V',\n",
    "                            get_parser=float,\n",
    "                            set_parser=float)\n",
    "\n",
    "\n",
    "        self.add_parameter('element_26_BNC19_to_BNC36',\n",
    "                            parameter_class=DummyParameter,\n",
    "                            initial_value=0,\n",
    "                            label='element_26_BNC34_to_BNC12',\n",
    "                            unit='V',\n",
    "                            get_parser=float,\n",
    "                            set_parser=float)\n",
    "\n",
    "\n",
    "        self.add_parameter('element_36_BNC19_to_BNC12',\n",
    "                            parameter_class=DummyParameter,\n",
    "                            initial_value=0,\n",
    "                            label='element_36_BNC34_to_BNC12',\n",
    "                            unit='V',\n",
    "                            get_parser=float,\n",
    "                            set_parser=float)\n",
    "\n",
    "        self.parameters['element_16_BNC19_to_BNC07'](0.45)\n",
    "        self.parameters['element_26_BNC19_to_BNC36'](0.035)\n",
    "        self.parameters['element_36_BNC19_to_BNC12'](0.4)\n",
    "\n",
    "# Initialize the dummy instrument\n",
    "virtual_matrix = DummyInstrument('virtual_matrix')\n"
   ]
  },
  {
   "cell_type": "code",
   "execution_count": 105,
   "metadata": {},
   "outputs": [],
   "source": [
    "virtual_matrix.close()"
   ]
  },
  {
   "cell_type": "code",
   "execution_count": 122,
   "metadata": {},
   "outputs": [
    {
     "name": "stdout",
     "output_type": "stream",
     "text": [
      "virtual_matrix:\n",
      "\tparameter                value\n",
      "--------------------------------------------------------------------------------\n",
      "IDN                       :\tNone \n",
      "element_14_BNC05_to_BNC07 :\t0.3 (V)\n",
      "element_15_BNC34_to_BNC07 :\t0.07 (V)\n",
      "element_16_BNC19_to_BNC07 :\t0.45 (V)\n",
      "element_24_BNC05_to_BNC36 :\t0.4 (V)\n",
      "element_25_BNC34_to_BNC36 :\t0.4 (V)\n",
      "element_26_BNC19_to_BNC36 :\t0.035 (V)\n",
      "element_34_BNC05_to_BNC12 :\t0.005 (V)\n",
      "element_35_BNC34_to_BNC12 :\t0.4 (V)\n",
      "element_36_BNC19_to_BNC12 :\t0.4 (V)\n"
     ]
    }
   ],
   "source": [
    "virtual_matrix.print_readable_snapshot()"
   ]
  },
  {
   "cell_type": "code",
   "execution_count": 15,
   "metadata": {},
   "outputs": [],
   "source": [
    "# BNC05 virtual gate (compensation)\n",
    "def live_left_barrier_BNC05_compensated_set(new_DC_value):\n",
    "    click_step = plotter.live.controller_value_step('BNC05_compensated')\n",
    "\n",
    "\n",
    "    virtual_matrix_col_4 = np.array([\n",
    "                                    virtual_matrix.element_14_BNC05_to_BNC07(), # BNC05 to BNC07\n",
    "                                    virtual_matrix.element_24_BNC05_to_BNC36(), # BNC05 to BNC36\n",
    "                                    virtual_matrix.element_34_BNC05_to_BNC12()  # BNC05 to BNC12\n",
    "                                    ])\n",
    "\n",
    "    # assign the new DC value to the channelvirtual_matrix\n",
    "    qdac.BNC05(new_DC_value)\n",
    "    \n",
    "    # virtualization\n",
    "    # P1 = qdac.BNC07, P2 = qdac.BNC36, P3 = qdac.BNC12\n",
    "    plunger_compensation_col_vector = - virtual_matrix_col_4 * click_step\n",
    "    # Assign values to the plungers\n",
    "    plotter.live.virtual_controller_change('top_BNC07',plunger_compensation_col_vector[0])\n",
    "    plotter.live.virtual_controller_change('left_BNC36',plunger_compensation_col_vector[1])\n",
    "    plotter.live.virtual_controller_change('right_BNC12',plunger_compensation_col_vector[2])\n",
    "\n",
    "\n",
    "    print('test_BNC05, virtual_matrix_col_4 = ',virtual_matrix_col_4)\n",
    "\n",
    "Live_left_barrier_BNC05_compensated = qc.Parameter(name='BNC05',label='BNC05',unit='V', set_cmd=live_left_barrier_BNC05_compensated_set, get_cmd=qdac.BNC05)"
   ]
  },
  {
   "cell_type": "code",
   "execution_count": 16,
   "metadata": {},
   "outputs": [],
   "source": [
    "# BNC34 virtual gate (compensation)\n",
    "def live_bottom_barrier_BNC34_compensated_set(new_DC_value):\n",
    "    click_step = plotter.live.controller_value_step('BNC34_compensated')\n",
    "    # value_after_click = plotter.live.controller_value('BNC34_compensated')\n",
    "    \n",
    "    # print('value_after_click = ',value_after_click)\n",
    "    # print('click_step = ',click_step)\n",
    "    # print('val = ',new_DC_value)\n",
    "\n",
    "    virtual_matrix_col_5 = np.array([\n",
    "                                    virtual_matrix.element_15_BNC34_to_BNC07(), # BNC34 to BNC07\n",
    "                                    virtual_matrix.element_25_BNC34_to_BNC36(), # BNC34 to BNC36\n",
    "                                    virtual_matrix.element_35_BNC34_to_BNC12()  # BNC34 to BNC12\n",
    "                                    ])\n",
    "\n",
    "    # assign the new DC value to the channel\n",
    "    qdac.BNC34(new_DC_value)\n",
    "    \n",
    "    # virtualization\n",
    "    # P1 = qdac.BNC07, P2 = qdac.BNC36, P3 = qdac.BNC12\n",
    "    plunger_compensation_col_vector = - virtual_matrix_col_5 * click_step\n",
    "    # Assign values to the plungers\n",
    "    plotter.live.virtual_controller_change('top_BNC07',plunger_compensation_col_vector[0])\n",
    "    plotter.live.virtual_controller_change('left_BNC36',plunger_compensation_col_vector[1])\n",
    "    plotter.live.virtual_controller_change('right_BNC12',plunger_compensation_col_vector[2])\n",
    "\n",
    "\n",
    "    print('test_BNC34, virtual_matrix_col_5 = ',virtual_matrix_col_5)\n",
    "\n",
    "Live_bottom_barrier_BNC34_compensated = qc.Parameter(name='BNC34',label='BNC34',unit='V', set_cmd=live_bottom_barrier_BNC34_compensated_set, get_cmd=qdac.BNC34)"
   ]
  },
  {
   "cell_type": "code",
   "execution_count": 17,
   "metadata": {},
   "outputs": [],
   "source": [
    "# BNC19 virtual gate (compensation)\n",
    "def live_right_barrier_BNC19_compensated_set(new_DC_value):\n",
    "    click_step = plotter.live.controller_value_step('BNC19_compensated')\n",
    "\n",
    "\n",
    "    virtual_matrix_col_6 = np.array([\n",
    "                                    virtual_matrix.element_16_BNC19_to_BNC07(), # BNC34 to BNC07\n",
    "                                    virtual_matrix.element_26_BNC19_to_BNC36(), # BNC34 to BNC36\n",
    "                                    virtual_matrix.element_36_BNC19_to_BNC12()  # BNC34 to BNC12\n",
    "                                    ])\n",
    "\n",
    "    # assign the new DC value to the channel\n",
    "    qdac.BNC19(new_DC_value)\n",
    "    \n",
    "    # virtualization\n",
    "    # P1 = qdac.BNC07, P2 = qdac.BNC36, P3 = qdac.BNC12\n",
    "    plunger_compensation_col_vector = - virtual_matrix_col_6 * click_step\n",
    "    # Assign values to the plungers\n",
    "    plotter.live.virtual_controller_change('top_BNC07',plunger_compensation_col_vector[0])\n",
    "    plotter.live.virtual_controller_change('left_BNC36',plunger_compensation_col_vector[1])\n",
    "    plotter.live.virtual_controller_change('right_BNC12',plunger_compensation_col_vector[2])\n",
    "\n",
    "\n",
    "    print('test_BNC19, virtual_matrix_col_6 = ',virtual_matrix_col_6)\n",
    "\n",
    "Live_right_barrier_BNC19_compensated = qc.Parameter(name='BNC19',label='BNC19',unit='V', set_cmd=live_right_barrier_BNC19_compensated_set, get_cmd=qdac.BNC19)"
   ]
  },
  {
   "cell_type": "code",
   "execution_count": 19,
   "metadata": {},
   "outputs": [],
   "source": [
    "extra_controllers = {\n",
    "    # \"BNC19_compensated\":(right_barrier_BNC19_compensated, 0.0005, qdac.BNC19()),\n",
    "    # \"element_14_BNC19_to_BNC07\":(virtual_matrix.element_16_BNC19_to_BNC07, 0.01, virtual_matrix.element_16_BNC19_to_BNC07()),\n",
    "    # \"element_24_BNC19_to_BNC36\":(virtual_matrix.element_26_BNC19_to_BNC36, 0.01, virtual_matrix.element_26_BNC19_to_BNC36()),\n",
    "    # \"element_34_BNC19_to_BNC12\":(virtual_matrix.element_36_BNC19_to_BNC12, 0.01, virtual_matrix.element_36_BNC19_to_BNC12()),\n",
    "    # \"BNC05_compensated\":(left_barrier_BNC05_compensated, 0.0005, qdac.BNC05()),\n",
    "    # \"element_14_BNC05_to_BNC07\":(virtual_matrix.element_14_BNC05_to_BNC07, 0.01, virtual_matrix.element_14_BNC05_to_BNC07()),\n",
    "    # \"element_24_BNC05_to_BNC36\":(virtual_matrix.element_24_BNC05_to_BNC36, 0.01, virtual_matrix.element_24_BNC05_to_BNC36()),\n",
    "    # \"element_34_BNC05_to_BNC12\":(virtual_matrix.element_34_BNC05_to_BNC12, 0.01, virtual_matrix.element_34_BNC05_to_BNC12()),\n",
    "    \"BNC34_compensated\":(bottom_barrier_BNC34_compensated, 0.0005, qdac.BNC34()),\n",
    "    \"element_15_BNC34_to_BNC07\":(virtual_matrix.element_15_BNC34_to_BNC07, 0.01, virtual_matrix.element_15_BNC34_to_BNC07()),\n",
    "    \"element_25_BNC34_to_BNC36\":(virtual_matrix.element_25_BNC34_to_BNC36, 0.01, virtual_matrix.element_25_BNC34_to_BNC36()),\n",
    "    \"element_35_BNC34_to_BNC12\":(virtual_matrix.element_35_BNC34_to_BNC12, 0.01, virtual_matrix.element_35_BNC34_to_BNC12()),\n",
    "    \"top_BNC07\": (qdac.BNC07, 0.0001, qdac.BNC07()), #name, (function_parameter, step_value, start_value)\n",
    "    \"left_BNC36\": (qdac.BNC36, 0.0001, qdac.BNC36()),\n",
    "    \"right_BNC12\": (qdac.BNC12, 0.0001, qdac.BNC12()),\n",
    "    \"barrier_BNC05\": (qdac.BNC05, 0.0005, qdac.BNC05()),\n",
    "    \"barrier_BNC34\": (qdac.BNC34, 0.0005, qdac.BNC34()),\n",
    "    \"barrier_BNC19\": (qdac.BNC19, 0.0005, qdac.BNC19()),\n",
    "    \"top_S_BNC10\": (qdac.BNC10, 0.0005, qdac.BNC10()),\n",
    "    \"left_S_BNC43\": (qdac.BNC43, 0.0005, qdac.BNC43()),\n",
    "    \"right_S_BNC29\": (qdac.BNC29, 0.0005, qdac.BNC29()),\n",
    "    # \"test_01\":(qdac.test_01,0.0005,qdac.test_01()),\n",
    "    # \"test_02\":(qdac.test_02,0.0005,qdac.test_02()),\n",
    "    # \"test_03\":(qdac.test_03,0.0005,qdac.test_03()),\n",
    "    # \"BNC07\": (qdac.BNC07, 0.0001, qdac.BNC07()),\n",
    "    }\n",
    "# extra_controllers = None\n",
    "plotter = Live_plot_handler(live_plotter, resolution= k_params['resolution'],n_resonators = 2, extra_controllers = extra_controllers)"
   ]
  },
  {
   "cell_type": "code",
   "execution_count": 118,
   "metadata": {},
   "outputs": [],
   "source": [
    "plotter.video.close()"
   ]
  },
  {
   "cell_type": "code",
   "execution_count": 24,
   "metadata": {},
   "outputs": [],
   "source": [
    "plotter.live.video_mode_callback.stop()"
   ]
  },
  {
   "cell_type": "code",
   "execution_count": 57,
   "metadata": {},
   "outputs": [],
   "source": [
    "# live_plotter = VirtualGateSetMeasurement\n",
    "live_plotter.start_acquisition()"
   ]
  },
  {
   "cell_type": "code",
   "execution_count": 58,
   "metadata": {},
   "outputs": [
    {
     "data": {
      "text/plain": [
       "(2, 81, 81)"
      ]
     },
     "execution_count": 58,
     "metadata": {},
     "output_type": "execute_result"
    }
   ],
   "source": [
    "fetch_result_temp = live_plotter.fetch_results()\n",
    "fetch_result_temp.shape"
   ]
  },
  {
   "cell_type": "code",
   "execution_count": 59,
   "metadata": {},
   "outputs": [
    {
     "data": {
      "text/plain": [
       "array([[[-0.0003751 , -0.00033448, -0.00034734, ..., -0.00035139,\n",
       "         -0.00037037, -0.00035436],\n",
       "        [-0.00038519, -0.00035063, -0.00037227, ..., -0.00039023,\n",
       "         -0.0003576 , -0.0003609 ],\n",
       "        [-0.00041505, -0.00041943, -0.00036686, ..., -0.00038253,\n",
       "         -0.00038702, -0.00041079],\n",
       "        ...,\n",
       "        [-0.00054735, -0.00054784, -0.00052647, ..., -0.00034862,\n",
       "         -0.00033766, -0.00034495],\n",
       "        [-0.0005139 , -0.00055263, -0.00058936, ..., -0.00034464,\n",
       "         -0.00040123, -0.0003707 ],\n",
       "        [-0.00049501, -0.00051725, -0.00056592, ..., -0.00034238,\n",
       "         -0.00038523, -0.00034015]],\n",
       "\n",
       "       [[-0.00200757, -0.0019918 , -0.0019663 , ..., -0.00199879,\n",
       "         -0.00194132, -0.00201108],\n",
       "        [-0.00196825, -0.00199492, -0.00198236, ..., -0.00204406,\n",
       "         -0.00200829, -0.00201422],\n",
       "        [-0.00200857, -0.00196105, -0.0019658 , ..., -0.00202469,\n",
       "         -0.0020046 , -0.00203464],\n",
       "        ...,\n",
       "        [-0.00143753, -0.00150542, -0.00144654, ..., -0.00144569,\n",
       "         -0.00154007, -0.00151611],\n",
       "        [-0.00143017, -0.00145971, -0.00147753, ..., -0.00143019,\n",
       "         -0.00150102, -0.00148378],\n",
       "        [-0.00138436, -0.00143481, -0.00142003, ..., -0.00149586,\n",
       "         -0.0014626 , -0.00146922]]])"
      ]
     },
     "execution_count": 59,
     "metadata": {},
     "output_type": "execute_result"
    }
   ],
   "source": [
    "# plotter = LiveStream class\n",
    "data_for_testing = plotter.video.video.get()\n",
    "data_for_testing"
   ]
  },
  {
   "cell_type": "code",
   "execution_count": null,
   "metadata": {},
   "outputs": [
    {
     "name": "stderr",
     "output_type": "stream",
     "text": [
      "WARNING:param.GridSpec: Providing a height-responsive sizing_mode ('scale_height') and a fixed height is not supported. Converting fixed height to min_height. If you intended the component to be fully height-responsive remove the height setting, otherwise change it to min_height. To error on the incorrect specification disable the config.layout_compatibility option.\n"
     ]
    },
    {
     "name": "stderr",
     "output_type": "stream",
     "text": [
      "INFO:bokeh.server.server:Starting Bokeh server version 3.4.1 (running on Tornado 6.3.3)\n",
      "INFO:bokeh.server.tornado:User authentication hooks NOT provided (default user enabled)\n",
      "DEBUG:bokeh.server.tornado:These host origins can connect to the websocket: ['localhost:62737']\n",
      "DEBUG:bokeh.server.tornado:Patterns are:\n",
      "DEBUG:bokeh.server.tornado:  [('/favicon.ico',\n",
      "DEBUG:bokeh.server.tornado:    <class 'bokeh.server.views.ico_handler.IcoHandler'>,\n",
      "DEBUG:bokeh.server.tornado:    {'app': <bokeh.server.tornado.BokehTornado object at 0x0000024FBC777F40>}),\n",
      "DEBUG:bokeh.server.tornado:   ('/?',\n",
      "DEBUG:bokeh.server.tornado:    <class 'panel.io.server.DocHandler'>,\n",
      "DEBUG:bokeh.server.tornado:    {'application_context': <bokeh.server.contexts.ApplicationContext object at 0x0000024FBC7A2EE0>,\n",
      "DEBUG:bokeh.server.tornado:     'bokeh_websocket_path': '/ws'}),\n",
      "DEBUG:bokeh.server.tornado:   ('/ws',\n",
      "DEBUG:bokeh.server.tornado:    <class 'bokeh.server.views.ws.WSHandler'>,\n",
      "DEBUG:bokeh.server.tornado:    {'application_context': <bokeh.server.contexts.ApplicationContext object at 0x0000024FBC7A2EE0>,\n",
      "DEBUG:bokeh.server.tornado:     'bokeh_websocket_path': '/ws',\n",
      "DEBUG:bokeh.server.tornado:     'compression_level': None,\n",
      "DEBUG:bokeh.server.tornado:     'mem_level': None}),\n",
      "DEBUG:bokeh.server.tornado:   ('/metadata',\n",
      "DEBUG:bokeh.server.tornado:    <class 'bokeh.server.views.metadata_handler.MetadataHandler'>,\n",
      "DEBUG:bokeh.server.tornado:    {'application_context': <bokeh.server.contexts.ApplicationContext object at 0x0000024FBC7A2EE0>,\n",
      "DEBUG:bokeh.server.tornado:     'bokeh_websocket_path': '/ws'}),\n",
      "DEBUG:bokeh.server.tornado:   ('/autoload.js',\n",
      "DEBUG:bokeh.server.tornado:    <class 'panel.io.server.AutoloadJsHandler'>,\n",
      "DEBUG:bokeh.server.tornado:    {'application_context': <bokeh.server.contexts.ApplicationContext object at 0x0000024FBC7A2EE0>,\n",
      "DEBUG:bokeh.server.tornado:     'bokeh_websocket_path': '/ws'}),\n",
      "DEBUG:bokeh.server.tornado:   ('/__patchedroot/static/(.*)',\n",
      "DEBUG:bokeh.server.tornado:    <class 'bokeh.server.views.static_handler.StaticHandler'>,\n",
      "DEBUG:bokeh.server.tornado:    {}),\n",
      "DEBUG:bokeh.server.tornado:   ('/components/(.*)',\n",
      "DEBUG:bokeh.server.tornado:    <class 'panel.io.server.ComponentResourceHandler'>,\n",
      "DEBUG:bokeh.server.tornado:    {}),\n",
      "DEBUG:bokeh.server.tornado:   ('/?',\n",
      "DEBUG:bokeh.server.tornado:    <class 'panel.io.server.RootHandler'>,\n",
      "DEBUG:bokeh.server.tornado:    {'applications': {'/': <bokeh.server.contexts.ApplicationContext object at 0x0000024FBC7A2EE0>},\n",
      "DEBUG:bokeh.server.tornado:     'index': 'c:\\\\Users\\\\T7\\\\miniconda3\\\\envs\\\\qcodes\\\\lib\\\\site-packages\\\\panel\\\\io\\\\..\\\\_templates\\\\index.html',\n",
      "DEBUG:bokeh.server.tornado:     'prefix': '',\n",
      "DEBUG:bokeh.server.tornado:     'use_redirect': True}),\n",
      "DEBUG:bokeh.server.tornado:   ('/static/extensions/(.*)',\n",
      "DEBUG:bokeh.server.tornado:    <class 'bokeh.server.views.multi_root_static_handler.MultiRootStaticHandler'>,\n",
      "DEBUG:bokeh.server.tornado:    {'root': {'panel': WindowsPath('c:/Users/T7/miniconda3/envs/qcodes/lib/site-packages/panel/dist')}}),\n",
      "DEBUG:bokeh.server.tornado:   ('/static/(.*)',\n",
      "DEBUG:bokeh.server.tornado:    <class 'bokeh.server.views.static_handler.StaticHandler'>)]\n"
     ]
    },
    {
     "name": "stdout",
     "output_type": "stream",
     "text": [
      "Launching server at http://localhost:62737\n"
     ]
    },
    {
     "name": "stderr",
     "output_type": "stream",
     "text": [
      "WARNING:bokeh.core.validation.check:W-1005 (FIXED_SIZING_MODE): 'fixed' sizing mode requires width and height to be set: Column(id='p1612', ...)\n",
      "DEBUG:bokeh.server.views.ws:Subprotocol header received\n",
      "INFO:bokeh.server.views.ws:WebSocket connection opened\n",
      "DEBUG:bokeh.server.views.ws:Receiver created for Protocol()\n",
      "DEBUG:bokeh.server.views.ws:ProtocolHandler created for Protocol()\n",
      "INFO:bokeh.server.views.ws:ServerConnection created\n",
      "DEBUG:bokeh.server.session:Sending pull-doc-reply from session '6XTHlh443kxhDIat3EfeydiHjDrzidrkrauG7sbvrGsg'\n",
      "WARNING:bokeh.core.validation.check:W-1005 (FIXED_SIZING_MODE): 'fixed' sizing mode requires width and height to be set: Column(id='p2355', ...)\n",
      "INFO:bokeh.server.views.ws:WebSocket connection closed: code=None, reason=None\n",
      "DEBUG:bokeh.server.views.ws:Subprotocol header received\n",
      "INFO:bokeh.server.views.ws:WebSocket connection opened\n",
      "DEBUG:bokeh.server.views.ws:Receiver created for Protocol()\n",
      "DEBUG:bokeh.server.views.ws:ProtocolHandler created for Protocol()\n",
      "INFO:bokeh.server.views.ws:ServerConnection created\n",
      "DEBUG:bokeh.server.session:Sending pull-doc-reply from session 'CgThmXNHOzQUbsJnS70fPwXTqrXhNkEVrxASoik724k6'\n",
      "DEBUG:bokeh.server.tornado:[pid 7420] 1 clients connected\n",
      "DEBUG:bokeh.server.tornado:[pid 7420]   / has 2 sessions with 1 unused\n"
     ]
    },
    {
     "name": "stdout",
     "output_type": "stream",
     "text": [
      "('function [get_raw] timeout [3 seconds] exceeded!', 'getting video_inst_video', 'getting video_inst_videorunningaverage')\n"
     ]
    },
    {
     "name": "stderr",
     "output_type": "stream",
     "text": [
      "DEBUG:bokeh.server.tornado:[pid 7420] 1 clients connected\n",
      "DEBUG:bokeh.server.tornado:[pid 7420]   / has 2 sessions with 1 unused\n"
     ]
    },
    {
     "name": "stdout",
     "output_type": "stream",
     "text": [
      "('function [get_raw] timeout [3 seconds] exceeded!', 'getting video_inst_video', 'getting video_inst_videorunningaverage')\n"
     ]
    },
    {
     "name": "stderr",
     "output_type": "stream",
     "text": [
      "DEBUG:bokeh.server.contexts:Scheduling 1 sessions to discard\n",
      "DEBUG:bokeh.server.contexts:Discarding session '6XTHlh443kxhDIat3EfeydiHjDrzidrkrauG7sbvrGsg' last in use 24750.0 milliseconds ago\n"
     ]
    },
    {
     "name": "stdout",
     "output_type": "stream",
     "text": [
      "('function [get_raw] timeout [3 seconds] exceeded!', 'getting video_inst_videorunningaverage')\n"
     ]
    },
    {
     "name": "stderr",
     "output_type": "stream",
     "text": [
      "DEBUG:bokeh.server.tornado:[pid 7420] 1 clients connected\n",
      "DEBUG:bokeh.server.tornado:[pid 7420]   / has 1 sessions with 0 unused\n"
     ]
    },
    {
     "name": "stdout",
     "output_type": "stream",
     "text": [
      "('function [get_raw] timeout [3 seconds] exceeded!', 'getting video_inst_videorunningaverage')\n",
      "('function [get_raw] timeout [3 seconds] exceeded!', 'getting video_inst_videorunningaverage')\n"
     ]
    },
    {
     "name": "stderr",
     "output_type": "stream",
     "text": [
      "DEBUG:bokeh.server.tornado:[pid 7420] 1 clients connected\n",
      "DEBUG:bokeh.server.tornado:[pid 7420]   / has 1 sessions with 0 unused\n",
      "DEBUG:bokeh.server.tornado:[pid 7420] 1 clients connected\n",
      "DEBUG:bokeh.server.tornado:[pid 7420]   / has 1 sessions with 0 unused\n",
      "DEBUG:bokeh.server.tornado:[pid 7420] 1 clients connected\n",
      "DEBUG:bokeh.server.tornado:[pid 7420]   / has 1 sessions with 0 unused\n",
      "DEBUG:bokeh.server.tornado:[pid 7420] 1 clients connected\n",
      "DEBUG:bokeh.server.tornado:[pid 7420]   / has 1 sessions with 0 unused\n",
      "DEBUG:bokeh.server.tornado:[pid 7420] 1 clients connected\n",
      "DEBUG:bokeh.server.tornado:[pid 7420]   / has 1 sessions with 0 unused\n",
      "DEBUG:bokeh.server.tornado:[pid 7420] 1 clients connected\n",
      "DEBUG:bokeh.server.tornado:[pid 7420]   / has 1 sessions with 0 unused\n"
     ]
    },
    {
     "name": "stdout",
     "output_type": "stream",
     "text": [
      "('function [get_raw] timeout [3 seconds] exceeded!', 'getting video_inst_videorunningaverage')\n",
      "('function [get_raw] timeout [3 seconds] exceeded!', 'getting video_inst_videorunningaverage')\n"
     ]
    },
    {
     "name": "stderr",
     "output_type": "stream",
     "text": [
      "DEBUG:bokeh.server.tornado:[pid 7420] 1 clients connected\n",
      "DEBUG:bokeh.server.tornado:[pid 7420]   / has 1 sessions with 0 unused\n"
     ]
    },
    {
     "name": "stdout",
     "output_type": "stream",
     "text": [
      "('function [get_raw] timeout [3 seconds] exceeded!', 'getting video_inst_videorunningaverage')\n",
      "('function [get_raw] timeout [3 seconds] exceeded!', 'getting video_inst_videorunningaverage')\n"
     ]
    },
    {
     "name": "stderr",
     "output_type": "stream",
     "text": [
      "DEBUG:bokeh.server.tornado:[pid 7420] 1 clients connected\n",
      "DEBUG:bokeh.server.tornado:[pid 7420]   / has 1 sessions with 0 unused\n"
     ]
    },
    {
     "name": "stdout",
     "output_type": "stream",
     "text": [
      "('function [get_raw] timeout [3 seconds] exceeded!', 'getting video_inst_videorunningaverage')\n",
      "('function [get_raw] timeout [3 seconds] exceeded!', 'getting video_inst_videorunningaverage')\n"
     ]
    },
    {
     "name": "stderr",
     "output_type": "stream",
     "text": [
      "DEBUG:bokeh.server.tornado:[pid 7420] 1 clients connected\n",
      "DEBUG:bokeh.server.tornado:[pid 7420]   / has 1 sessions with 0 unused\n"
     ]
    },
    {
     "name": "stdout",
     "output_type": "stream",
     "text": [
      "('function [get_raw] timeout [3 seconds] exceeded!', 'getting video_inst_videorunningaverage')\n",
      "('function [get_raw] timeout [3 seconds] exceeded!', 'getting video_inst_video', 'getting video_inst_videorunningaverage')\n"
     ]
    },
    {
     "name": "stderr",
     "output_type": "stream",
     "text": [
      "DEBUG:bokeh.server.tornado:[pid 7420] 1 clients connected\n",
      "DEBUG:bokeh.server.tornado:[pid 7420]   / has 1 sessions with 0 unused\n"
     ]
    },
    {
     "name": "stdout",
     "output_type": "stream",
     "text": [
      "test_BNC34, virtual_matrix_col_5 =  [0.07 0.4  0.4 ]\n",
      "test_BNC34, virtual_matrix_col_5 =  [0.07 0.4  0.4 ]\n"
     ]
    },
    {
     "name": "stderr",
     "output_type": "stream",
     "text": [
      "DEBUG:bokeh.server.tornado:[pid 7420] 1 clients connected\n",
      "DEBUG:bokeh.server.tornado:[pid 7420]   / has 1 sessions with 0 unused\n"
     ]
    },
    {
     "name": "stdout",
     "output_type": "stream",
     "text": [
      "test_BNC34, virtual_matrix_col_5 =  [0.07 0.4  0.4 ]\n"
     ]
    },
    {
     "name": "stderr",
     "output_type": "stream",
     "text": [
      "DEBUG:bokeh.server.tornado:[pid 7420] 1 clients connected\n",
      "DEBUG:bokeh.server.tornado:[pid 7420]   / has 1 sessions with 0 unused\n"
     ]
    },
    {
     "name": "stdout",
     "output_type": "stream",
     "text": [
      "test_BNC34, virtual_matrix_col_5 =  [0.07 0.4  0.4 ]\n"
     ]
    },
    {
     "name": "stderr",
     "output_type": "stream",
     "text": [
      "DEBUG:bokeh.server.tornado:[pid 7420] 1 clients connected\n",
      "DEBUG:bokeh.server.tornado:[pid 7420]   / has 1 sessions with 0 unused\n",
      "DEBUG:bokeh.server.tornado:[pid 7420] 1 clients connected\n",
      "DEBUG:bokeh.server.tornado:[pid 7420]   / has 1 sessions with 0 unused\n",
      "DEBUG:bokeh.server.tornado:[pid 7420] 1 clients connected\n",
      "DEBUG:bokeh.server.tornado:[pid 7420]   / has 1 sessions with 0 unused\n"
     ]
    },
    {
     "name": "stdout",
     "output_type": "stream",
     "text": [
      "test_BNC34, virtual_matrix_col_5 =  [0.07 0.5  0.4 ]\n"
     ]
    },
    {
     "name": "stderr",
     "output_type": "stream",
     "text": [
      "DEBUG:bokeh.server.tornado:[pid 7420] 1 clients connected\n",
      "DEBUG:bokeh.server.tornado:[pid 7420]   / has 1 sessions with 0 unused\n"
     ]
    },
    {
     "name": "stdout",
     "output_type": "stream",
     "text": [
      "test_BNC34, virtual_matrix_col_5 =  [0.07 0.6  0.4 ]\n"
     ]
    },
    {
     "name": "stderr",
     "output_type": "stream",
     "text": [
      "DEBUG:bokeh.server.tornado:[pid 7420] 1 clients connected\n",
      "DEBUG:bokeh.server.tornado:[pid 7420]   / has 1 sessions with 0 unused\n",
      "DEBUG:bokeh.server.tornado:[pid 7420] 1 clients connected\n",
      "DEBUG:bokeh.server.tornado:[pid 7420]   / has 1 sessions with 0 unused\n",
      "DEBUG:bokeh.server.tornado:[pid 7420] 1 clients connected\n",
      "DEBUG:bokeh.server.tornado:[pid 7420]   / has 1 sessions with 0 unused\n",
      "DEBUG:bokeh.server.tornado:[pid 7420] 1 clients connected\n",
      "DEBUG:bokeh.server.tornado:[pid 7420]   / has 1 sessions with 0 unused\n",
      "DEBUG:bokeh.server.tornado:[pid 7420] 1 clients connected\n",
      "DEBUG:bokeh.server.tornado:[pid 7420]   / has 1 sessions with 0 unused\n",
      "DEBUG:bokeh.server.tornado:[pid 7420] 1 clients connected\n",
      "DEBUG:bokeh.server.tornado:[pid 7420]   / has 1 sessions with 0 unused\n",
      "DEBUG:bokeh.server.tornado:[pid 7420] 1 clients connected\n",
      "DEBUG:bokeh.server.tornado:[pid 7420]   / has 1 sessions with 0 unused\n"
     ]
    }
   ],
   "source": [
    "plotter.start_stream(refresh_period=100) #start livestreaming"
   ]
  },
  {
   "cell_type": "code",
   "execution_count": null,
   "metadata": {},
   "outputs": [],
   "source": []
  },
  {
   "cell_type": "code",
   "execution_count": 27,
   "metadata": {},
   "outputs": [
    {
     "data": {
      "text/plain": [
       "-0.3034946"
      ]
     },
     "execution_count": 27,
     "metadata": {},
     "output_type": "execute_result"
    },
    {
     "name": "stderr",
     "output_type": "stream",
     "text": [
      "DEBUG:bokeh.server.tornado:[pid 16756] 1 clients connected\n",
      "DEBUG:bokeh.server.tornado:[pid 16756]   / has 1 sessions with 0 unused\n"
     ]
    }
   ],
   "source": [
    "plotter.live.controller_object_dict['top_S_BNC10'].qchan.get()"
   ]
  },
  {
   "cell_type": "code",
   "execution_count": 29,
   "metadata": {},
   "outputs": [
    {
     "data": {
      "text/plain": [
       "-5e-05"
      ]
     },
     "execution_count": 29,
     "metadata": {},
     "output_type": "execute_result"
    }
   ],
   "source": [
    "plotter.live.controller_value_step('top_S_BNC10')"
   ]
  },
  {
   "cell_type": "code",
   "execution_count": 28,
   "metadata": {},
   "outputs": [
    {
     "data": {
      "text/plain": [
       "-0.3034958"
      ]
     },
     "execution_count": 28,
     "metadata": {},
     "output_type": "execute_result"
    }
   ],
   "source": [
    "# plotter.live is LiveStream class\n",
    "plotter.live.controller_object_dict['top_S_BNC10'].controle_value"
   ]
  },
  {
   "cell_type": "code",
   "execution_count": null,
   "metadata": {},
   "outputs": [
    {
     "data": {
      "text/plain": [
       "-0.303444"
      ]
     },
     "execution_count": 28,
     "metadata": {},
     "output_type": "execute_result"
    },
    {
     "name": "stderr",
     "output_type": "stream",
     "text": [
      "DEBUG:bokeh.server.tornado:[pid 10560] 1 clients connected\n",
      "DEBUG:bokeh.server.tornado:[pid 10560]   / has 1 sessions with 0 unused\n",
      "DEBUG:bokeh.server.tornado:[pid 10560] 1 clients connected\n",
      "DEBUG:bokeh.server.tornado:[pid 10560]   / has 1 sessions with 0 unused\n",
      "DEBUG:bokeh.server.tornado:[pid 10560] 1 clients connected\n",
      "DEBUG:bokeh.server.tornado:[pid 10560]   / has 1 sessions with 0 unused\n"
     ]
    }
   ],
   "source": [
    "plotter.live.controller_value_before_click('top_S_BNC10')"
   ]
  },
  {
   "cell_type": "code",
   "execution_count": 99,
   "metadata": {},
   "outputs": [
    {
     "name": "stdout",
     "output_type": "stream",
     "text": [
      "Set ch01 to 0.000000 V\n",
      "Set ch02 to 0.000000 V\n",
      "Set ch03 to 0.000000 V\n",
      "Set ch04 to -0.834498 V\n",
      "Set ch05 to -0.302997 V\n",
      "Set ch06 to -0.441799 V\n",
      "Set ch07 to -0.871897 V\n",
      "Set ch08 to -0.324996 V\n",
      "Set ch09 to -0.519698 V\n",
      "Set ch10 to -0.918993 V\n",
      "Set ch11 to -0.312678 V\n",
      "Set ch12 to -0.655495 V\n",
      "Set ch13 to -0.363968 V\n",
      "Set ch14 to -0.257969 V\n",
      "Set ch15 to -0.119280 V\n",
      "Set ch16 to -0.317080 V\n",
      "Set ch17 to -0.247985 V\n",
      "Set ch18 to -0.311980 V\n",
      "Set ch19 to -0.194449 V\n",
      "Set ch20 to -0.281375 V\n",
      "Set ch21 to -0.249992 V\n",
      "Set ch22 to -0.239990 V\n",
      "Set ch23 to -0.181258 V\n",
      "Set ch24 to -0.336118 V\n"
     ]
    },
    {
     "name": "stderr",
     "output_type": "stream",
     "text": [
      "DEBUG:bokeh.server.tornado:[pid 1164] 1 clients connected\n",
      "DEBUG:bokeh.server.tornado:[pid 1164]   / has 2 sessions with 1 unused\n",
      "DEBUG:bokeh.server.contexts:Scheduling 1 sessions to discard\n",
      "DEBUG:bokeh.server.contexts:Discarding session 'MC42XfHKB9JP1PZdniZz1rTqYG41Ry8udACfLawKFsRg' last in use 23266.0 milliseconds ago\n"
     ]
    },
    {
     "name": "stdout",
     "output_type": "stream",
     "text": [
      "('function [get_raw] timeout [3 seconds] exceeded!', 'getting video_inst_videorunningaverage')\n",
      "('function [get_raw] timeout [3 seconds] exceeded!', 'getting video_inst_videorunningaverage')\n"
     ]
    },
    {
     "name": "stderr",
     "output_type": "stream",
     "text": [
      "DEBUG:bokeh.server.tornado:[pid 1164] 1 clients connected\n",
      "DEBUG:bokeh.server.tornado:[pid 1164]   / has 1 sessions with 0 unused\n"
     ]
    },
    {
     "name": "stdout",
     "output_type": "stream",
     "text": [
      "('function [get_raw] timeout [3 seconds] exceeded!', 'getting video_inst_videorunningaverage')\n",
      "('function [get_raw] timeout [3 seconds] exceeded!', 'getting video_inst_videorunningaverage')\n"
     ]
    },
    {
     "name": "stderr",
     "output_type": "stream",
     "text": [
      "DEBUG:bokeh.server.tornado:[pid 1164] 1 clients connected\n",
      "DEBUG:bokeh.server.tornado:[pid 1164]   / has 1 sessions with 0 unused\n",
      "DEBUG:bokeh.server.tornado:[pid 1164] 1 clients connected\n",
      "DEBUG:bokeh.server.tornado:[pid 1164]   / has 1 sessions with 0 unused\n",
      "DEBUG:bokeh.server.tornado:[pid 1164] 1 clients connected\n",
      "DEBUG:bokeh.server.tornado:[pid 1164]   / has 1 sessions with 0 unused\n",
      "DEBUG:bokeh.server.tornado:[pid 1164] 1 clients connected\n",
      "DEBUG:bokeh.server.tornado:[pid 1164]   / has 1 sessions with 0 unused\n"
     ]
    },
    {
     "name": "stdout",
     "output_type": "stream",
     "text": [
      "('function [get_raw] timeout [3 seconds] exceeded!', 'getting video_inst_videorunningaverage')\n",
      "('function [get_raw] timeout [3 seconds] exceeded!', 'getting video_inst_videorunningaverage')\n"
     ]
    },
    {
     "name": "stderr",
     "output_type": "stream",
     "text": [
      "DEBUG:bokeh.server.tornado:[pid 1164] 1 clients connected\n",
      "DEBUG:bokeh.server.tornado:[pid 1164]   / has 1 sessions with 0 unused\n",
      "DEBUG:bokeh.server.tornado:[pid 1164] 1 clients connected\n",
      "DEBUG:bokeh.server.tornado:[pid 1164]   / has 1 sessions with 0 unused\n",
      "DEBUG:bokeh.server.tornado:[pid 1164] 1 clients connected\n",
      "DEBUG:bokeh.server.tornado:[pid 1164]   / has 1 sessions with 0 unused\n",
      "DEBUG:bokeh.server.tornado:[pid 1164] 1 clients connected\n",
      "DEBUG:bokeh.server.tornado:[pid 1164]   / has 1 sessions with 0 unused\n",
      "DEBUG:bokeh.server.tornado:[pid 1164] 1 clients connected\n",
      "DEBUG:bokeh.server.tornado:[pid 1164]   / has 1 sessions with 0 unused\n",
      "DEBUG:bokeh.server.tornado:[pid 1164] 1 clients connected\n",
      "DEBUG:bokeh.server.tornado:[pid 1164]   / has 1 sessions with 0 unused\n",
      "DEBUG:bokeh.server.tornado:[pid 1164] 1 clients connected\n",
      "DEBUG:bokeh.server.tornado:[pid 1164]   / has 1 sessions with 0 unused\n"
     ]
    },
    {
     "name": "stdout",
     "output_type": "stream",
     "text": [
      "test_BNC19, virtual_matrix_col_6 =  [0.07 0.4  0.4 ]\n"
     ]
    },
    {
     "name": "stderr",
     "output_type": "stream",
     "text": [
      "DEBUG:bokeh.server.tornado:[pid 1164] 1 clients connected\n",
      "DEBUG:bokeh.server.tornado:[pid 1164]   / has 1 sessions with 0 unused\n"
     ]
    },
    {
     "name": "stdout",
     "output_type": "stream",
     "text": [
      "test_BNC19, virtual_matrix_col_6 =  [0.07 0.4  0.4 ]\n"
     ]
    },
    {
     "name": "stderr",
     "output_type": "stream",
     "text": [
      "DEBUG:bokeh.server.tornado:[pid 1164] 1 clients connected\n",
      "DEBUG:bokeh.server.tornado:[pid 1164]   / has 1 sessions with 0 unused\n"
     ]
    }
   ],
   "source": [
    "QDac_voltage_restore_based_on_run_ID(\"QDACII\",400)"
   ]
  },
  {
   "cell_type": "code",
   "execution_count": 125,
   "metadata": {},
   "outputs": [],
   "source": [
    "live_plotter.job.halt()\n",
    "plotter.video.close()\n",
    "\n",
    "# ensures that it stops reading values\n",
    "plotter.live.video_mode_callback.stop()"
   ]
  },
  {
   "cell_type": "code",
   "execution_count": null,
   "metadata": {},
   "outputs": [],
   "source": []
  },
  {
   "cell_type": "code",
   "execution_count": null,
   "metadata": {},
   "outputs": [],
   "source": [
    "from opx_tools.opx_setup import fetch_all_data\n",
    "all_data = fetch_all_data(live_plotter.job)"
   ]
  },
  {
   "cell_type": "code",
   "execution_count": null,
   "metadata": {},
   "outputs": [],
   "source": [
    "all_data.keys()"
   ]
  },
  {
   "cell_type": "code",
   "execution_count": null,
   "metadata": {},
   "outputs": [],
   "source": [
    "fig, axes = plt.subplots(1,2)\n",
    "axes[0].imshow(all_data['I_T_sensor'])\n",
    "axes[1].imshow(all_data['I_L_sensor'])"
   ]
  },
  {
   "cell_type": "code",
   "execution_count": null,
   "metadata": {},
   "outputs": [],
   "source": [
    "live_plotter.virtual_matrix"
   ]
  },
  {
   "cell_type": "code",
   "execution_count": null,
   "metadata": {},
   "outputs": [],
   "source": [
    "A = live_plotter.virtual_matrix\n",
    "\n",
    "np.linalg.inv(A)"
   ]
  },
  {
   "cell_type": "code",
   "execution_count": null,
   "metadata": {},
   "outputs": [],
   "source": [
    "# live_plotter = VirtualGateSetMeasurement\n",
    "live_plotter.start_acquisition()"
   ]
  },
  {
   "cell_type": "code",
   "execution_count": null,
   "metadata": {},
   "outputs": [],
   "source": [
    "# plotter = LiveStream class\n",
    "data_for_testing = plotter.video.videorunningaverage.get()\n",
    "data_for_testing"
   ]
  }
 ],
 "metadata": {
  "kernelspec": {
   "display_name": "qua",
   "language": "python",
   "name": "python3"
  },
  "language_info": {
   "codemirror_mode": {
    "name": "ipython",
    "version": 3
   },
   "file_extension": ".py",
   "mimetype": "text/x-python",
   "name": "python",
   "nbconvert_exporter": "python",
   "pygments_lexer": "ipython3",
   "version": "3.9.18"
  }
 },
 "nbformat": 4,
 "nbformat_minor": 2
}
