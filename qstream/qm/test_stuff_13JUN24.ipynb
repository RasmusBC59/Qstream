{
 "cells": [
  {
   "cell_type": "code",
   "execution_count": 1,
   "metadata": {},
   "outputs": [
    {
     "name": "stdout",
     "output_type": "stream",
     "text": [
      "2024-06-14 15:33:29,661 - qm - INFO     - Starting session: 0f3d996d-81b8-4709-89fd-c435c474dcfa\n"
     ]
    }
   ],
   "source": [
    "import numpy as np\n",
    "from OPX_live_controller import VirtualGateSetMeasurement, QuAM\n",
    "from qmucph.quam_mods.quam_mods import InOutSingleChannel_M\n",
    "from quam.components.virtual_gate_set import VirtualGateSet\n",
    "from quam.core import QuamRoot, quam_dataclass\n",
    "from quam.components import SingleChannel, StickyChannelAddon, pulses, VirtualPulse\n",
    "from dataclasses import field\n",
    "from typing import List, Dict\n",
    "from qm.qua import program, declare, fixed, for_, stream_processing, declare_stream, save, ramp_to_zero, align, wait\n",
    "from qualang_tools.loops import from_array\n",
    "import pprint\n",
    "from copy import deepcopy\n",
    "\n",
    "\n",
    "dividers = {'g1':1, 'g2':2, 'g3':3}\n",
    "virt_rand = np.random.uniform(0,1, (3,2)) #np.ones((2,2)) - np.eye(2,2)*2 #\n",
    "virtualisation_matrix = virt_rand * np.array(list(dividers.values()))[:,None]\n",
    "machine = QuAM()\n",
    "machine.gates = {\n",
    "    \"g1\": SingleChannel(\n",
    "        id=\"g1\",\n",
    "        opx_output=(\"con1\", 1),\n",
    "        sticky=StickyChannelAddon(duration=200, digital=False),\n",
    "    ),\n",
    "    \"g2\": SingleChannel(\n",
    "        id=\"g2\",\n",
    "        opx_output=(\"con1\", 2),\n",
    "        sticky=StickyChannelAddon(duration=200, digital=False),\n",
    "    ),\n",
    "    \"g3\": SingleChannel(\n",
    "        id=\"g3\",\n",
    "        opx_output=(\"con1\", 3),\n",
    "        sticky=StickyChannelAddon(duration=200, digital=False),\n",
    "    ),\n",
    "}\n",
    "\n",
    "machine.VirtualGateSet1 = VirtualGateSet(\n",
    "    gates=[\"#/gates/g1\", \"#/gates/g2\", \"#/gates/g3\"], # Be careful with ordering\n",
    "    virtual_gates={\"v1\": virtualisation_matrix[:,0],\n",
    "                    \"v2\": virtualisation_matrix[:,1],\n",
    "                    }, \n",
    "    pulse_defaults=[\n",
    "        pulses.SquarePulse(amplitude=None, length=None),\n",
    "        pulses.SquarePulse(amplitude=None, length=None),\n",
    "        pulses.SquarePulse(amplitude=None, length=None),\n",
    "    ],\n",
    ")\n",
    "\n",
    "machine.VirtualGateSet2 = VirtualGateSet(\n",
    "    gates=[\"#/gates/g1\", \"#/gates/g2\", \"#/gates/g3\"], # Be careful with ordering\n",
    "    virtual_gates={\"v1\": virtualisation_matrix[:,0],\n",
    "                    \"v2\": virtualisation_matrix[:,1],\n",
    "                    }, \n",
    "    pulse_defaults=[\n",
    "        pulses.SquarePulse(amplitude=None, length=None),\n",
    "        pulses.SquarePulse(amplitude=None, length=None),\n",
    "        pulses.SquarePulse(amplitude=None, length=None),\n",
    "    ],\n",
    ")\n",
    "\n",
    "machine.resonator = InOutSingleChannel_M(\n",
    "    id=\"readout\",\n",
    "    opx_output=(\"con1\", 1),\n",
    "    opx_input=(\"con1\", 1),\n",
    "    intermediate_frequency=192307692,\n",
    "    time_of_flight=372\n",
    "    )\n",
    "\n",
    "# config = machine.generate_config()\n",
    "\n",
    "measurer = VirtualGateSetMeasurement(QuAM= machine,\n",
    "                                    resolution=51,\n",
    "                                    readout_time_us= 1,\n",
    "                                    readout_amplitude=0.1,\n",
    "                                    dividers = dividers)\n"
   ]
  },
  {
   "cell_type": "code",
   "execution_count": 2,
   "metadata": {},
   "outputs": [
    {
     "data": {
      "text/plain": [
       "array([[0.89676927, 0.28785859],\n",
       "       [0.28683284, 0.80593909],\n",
       "       [0.06277463, 0.75493533]])"
      ]
     },
     "execution_count": 2,
     "metadata": {},
     "output_type": "execute_result"
    }
   ],
   "source": [
    "virt_rand"
   ]
  },
  {
   "cell_type": "code",
   "execution_count": 3,
   "metadata": {},
   "outputs": [
    {
     "data": {
      "text/plain": [
       "array([[0.89676927, 0.28785859],\n",
       "       [0.57366567, 1.61187818],\n",
       "       [0.1883239 , 2.26480598]])"
      ]
     },
     "execution_count": 3,
     "metadata": {},
     "output_type": "execute_result"
    }
   ],
   "source": [
    "virtualisation_matrix"
   ]
  },
  {
   "cell_type": "code",
   "execution_count": 9,
   "metadata": {},
   "outputs": [
    {
     "name": "stdout",
     "output_type": "stream",
     "text": [
      "[0.01439293 0.04483846 0.00057572 0.08059391 0.02868328 0.00322376\n",
      " 0.1132403  0.0094162  0.00452961]\n",
      "[0.01439293 0.04483846 0.00057572 0.08059391 0.02868328 0.00322376\n",
      " 0.1132403  0.0094162  0.00452961]\n",
      "[ 0.00000000e+00  0.00000000e+00  0.00000000e+00  0.00000000e+00\n",
      "  0.00000000e+00  0.00000000e+00 -1.38777878e-17  0.00000000e+00\n",
      " -8.67361738e-19]\n"
     ]
    }
   ],
   "source": [
    "virtualisation_matrix = virt_rand #np.array([[1,0],[0,1]])\n",
    "\n",
    "new = measurer.change_virtualisation_matrix(None, None,virtualisation_matrix)['waveforms']\n",
    "# print(new)\n",
    "def get_nums(waveforms_dict):\n",
    "    a = []\n",
    "    for gate in ['g1','g2', 'g3']:\n",
    "        for pulse in ['.big_pulse.wf','.slow_pulse.wf','.small_pulse.wf']:\n",
    "            if isinstance(waveforms_dict[gate+pulse], dict):\n",
    "                a.append(waveforms_dict[gate+pulse]['sample'])\n",
    "            else:\n",
    "                a.append(waveforms_dict[gate + pulse])\n",
    "    return np.array(a)\n",
    "test_change = get_nums(new)\n",
    "test_virtual_gate_set = get_nums(measurer.config['waveforms'])\n",
    "print(test_change)\n",
    "print(test_virtual_gate_set)\n",
    "\n",
    "print(np.array(test_virtual_gate_set) - np.array(test_change))\n"
   ]
  },
  {
   "cell_type": "code",
   "execution_count": 5,
   "metadata": {},
   "outputs": [
    {
     "data": {
      "text/plain": [
       "array([[0.89676927, 0.28785859],\n",
       "       [0.28683284, 0.80593909],\n",
       "       [0.06277463, 0.75493533]])"
      ]
     },
     "execution_count": 5,
     "metadata": {},
     "output_type": "execute_result"
    }
   ],
   "source": [
    "virt_rand"
   ]
  },
  {
   "cell_type": "code",
   "execution_count": 6,
   "metadata": {},
   "outputs": [],
   "source": [
    "dividers = {'g1':7.5, 'g2':9.5}\n",
    "virtualisation_matrix = np.array([[1,0],[0,1]]) * np.array(list(dividers.values()))"
   ]
  },
  {
   "cell_type": "code",
   "execution_count": 7,
   "metadata": {},
   "outputs": [
    {
     "data": {
      "text/plain": [
       "array([[7.5, 0. ],\n",
       "       [0. , 9.5]])"
      ]
     },
     "execution_count": 7,
     "metadata": {},
     "output_type": "execute_result"
    }
   ],
   "source": [
    "virtualisation_matrix"
   ]
  },
  {
   "cell_type": "code",
   "execution_count": null,
   "metadata": {},
   "outputs": [],
   "source": []
  }
 ],
 "metadata": {
  "kernelspec": {
   "display_name": "qua",
   "language": "python",
   "name": "python3"
  },
  "language_info": {
   "codemirror_mode": {
    "name": "ipython",
    "version": 3
   },
   "file_extension": ".py",
   "mimetype": "text/x-python",
   "name": "python",
   "nbconvert_exporter": "python",
   "pygments_lexer": "ipython3",
   "version": "3.11.4"
  }
 },
 "nbformat": 4,
 "nbformat_minor": 2
}
